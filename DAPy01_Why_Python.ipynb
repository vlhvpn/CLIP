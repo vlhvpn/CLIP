{
  "nbformat": 4,
  "nbformat_minor": 0,
  "metadata": {
    "colab": {
      "provenance": [],
      "toc_visible": true,
      "include_colab_link": true
    },
    "kernelspec": {
      "name": "python3",
      "display_name": "Python 3"
    },
    "language_info": {
      "name": "python"
    }
  },
  "cells": [
    {
      "cell_type": "markdown",
      "metadata": {
        "id": "view-in-github",
        "colab_type": "text"
      },
      "source": [
        "<a href=\"https://colab.research.google.com/github/vlhvpn/CLIP/blob/main/DAPy01_Why_Python.ipynb\" target=\"_parent\"><img src=\"https://colab.research.google.com/assets/colab-badge.svg\" alt=\"Open In Colab\"/></a>"
      ]
    },
    {
      "cell_type": "markdown",
      "source": [
        "# Data Analytics\n",
        "The point of data analytics is to ask questions, and find ways to answer them by applying methods and techniques to data.\n",
        "\n",
        "We can use a variety of tools to do so, ranging from pencil and paper to spreadsheets, databases and specialised software. Some of the most commonly used tools of data analysis rely on programming languages (e.g., Python, R) to apply data analysis techniques or methods to datasets."
      ],
      "metadata": {
        "id": "sWu6Po99fOb6"
      }
    },
    {
      "cell_type": "markdown",
      "source": [
        "> \"One reason I love programming is that it’s a cross between magic spells and LEGO.\" (Cassie Kozyrkov, [\"Understanding Data\"](https://medium.com/towards-data-science/what-is-data-8f94ae3a56b4))\n",
        "\n",
        "\n",
        "\n"
      ],
      "metadata": {
        "id": "cmPfXLQdb09I"
      }
    },
    {
      "cell_type": "markdown",
      "source": [
        "# Why bother with Python?\n",
        "Programming involves, at first sight, a lot more effort than a simpler tool such as Excel or Google Sheets. Which is true. Sometimes you just need a simple spreadsheet, and sometimes you need a bit more.\n",
        "\n",
        "This session aims to introduce you to the possibilities of working beyond spreadsheets:\n",
        "1. The Colab environment.\n",
        "2. Key libraries for working with data (Pandas, Seaborn).\n",
        "3. Getting started with key **functions** for data analysis.\n",
        "4. Applying those functions to actual data.\n",
        "\n",
        "\n"
      ],
      "metadata": {
        "id": "OYuiayabj4c4"
      }
    },
    {
      "cell_type": "markdown",
      "source": [
        "# Introducing Colab\n",
        "Google Colab is a programming environment that runs in the cloud (on a Google server). A Colab notebook allows you to write and annotate code and to run it on a self-contained virtual machine in the cloud. This means that you do not have to install a Python environment with all the necessary libraries on your own machine.\n",
        "\n",
        "* [Introduction to Colab](https://colab.research.google.com/) (in notebook format)\n",
        "\n",
        "*In this notebook, the code cells are part of your learning. You will have to run them, and we will practice editing the code to see if you can get a different result.*"
      ],
      "metadata": {
        "id": "UbExQ964mEMM"
      }
    },
    {
      "cell_type": "markdown",
      "source": [
        "# Libraries for data analysis\n",
        "In Python, you can use specialist libraries to perform specific tasks. The libraries we focus on today are:\n",
        "* [Pandas](https://pandas.pydata.org/docs/index.html) (for preparing, exploring and analysing data in table format)\n",
        "* [Seaborn](https://seaborn.pydata.org/tutorial/introduction.html) (for data visualisation)"
      ],
      "metadata": {
        "id": "P6im2bHmmHP4"
      }
    },
    {
      "cell_type": "markdown",
      "source": [
        "# Functions\n",
        "Libraries are like software programs that rely on Python to run. Instead of using graphical interfaces to run it we use the **functions** that come with those libraries."
      ],
      "metadata": {
        "id": "NgTS9Vg8iVeV"
      }
    },
    {
      "cell_type": "code",
      "source": [
        "# This code cell loads the Pandas and Seaborn libraries, and gives them short-form names.\n",
        "import pandas as pd\n",
        "import seaborn as sns"
      ],
      "metadata": {
        "id": "tMpHq5wh1tDG"
      },
      "execution_count": null,
      "outputs": []
    },
    {
      "cell_type": "markdown",
      "source": [
        "# Load the data (UK Census 2021)\n",
        "First, we load some simple numerical data. This is a subset of the [UK 2021 Census dataset on towns and housing](https://www.ons.gov.uk/peoplepopulationandcommunity/housing/datasets/townsandcitiesanalysis)), showing the percentage of each area's population by certain age ranges."
      ],
      "metadata": {
        "id": "z6OTJ1N-y9ey"
      }
    },
    {
      "cell_type": "code",
      "source": [
        "# URL of the data file:\n",
        "housing_url = 'https://github.com/conceptbin/DA_Notebooks/raw/master/py-intro/data/UK2021census_town_population.csv'\n",
        "# Tell pandas to create a dataframe\n",
        "df = pd.read_csv(housing_url)"
      ],
      "metadata": {
        "id": "GKhW31SrpeT5"
      },
      "execution_count": null,
      "outputs": []
    },
    {
      "cell_type": "markdown",
      "source": [
        "Here we declared a *variable* (housing_url) and used it in the pandas (pd) *function* `read_csv()`"
      ],
      "metadata": {
        "id": "ju73Nu-Po7Kc"
      }
    },
    {
      "cell_type": "markdown",
      "source": [
        "But what have we loaded? Let's take a look at (some of) the data:"
      ],
      "metadata": {
        "id": "hzuH9ZkgphPo"
      }
    },
    {
      "cell_type": "code",
      "source": [
        "# Display top and tail of the dataframe within the notebook\n",
        "df"
      ],
      "metadata": {
        "id": "O4kQ2Wrcybb5",
        "colab": {
          "base_uri": "https://localhost:8080/",
          "height": 476
        },
        "outputId": "87cdbb3e-4875-4153-c265-f8e9f0508646"
      },
      "execution_count": null,
      "outputs": [
        {
          "output_type": "execute_result",
          "data": {
            "text/plain": [
              "     TCITY15CD        Town/City            Region/Country  \\\n",
              "0    J01000001       Barnsley    Yorkshire and The Humber   \n",
              "1    J01000002       Basildon             East of England   \n",
              "2    J01000003    Basingstoke                  South East   \n",
              "3    J01000004           Bath                  South West   \n",
              "4    J01000005        Bedford             East of England   \n",
              "..         ...              ...                       ...   \n",
              "107  J01000108         Woking                  South East   \n",
              "108  J01000109  Wolverhampton               West Midlands   \n",
              "109  J01000110      Worcester               West Midlands   \n",
              "110  J01000111       Worthing                  South East   \n",
              "111  J01000112           York    Yorkshire and The Humber   \n",
              "\n",
              "     Population aged 0-15   Population aged 16-64   Population aged 65+   \\\n",
              "0                    18.22                   64.67                 17.10   \n",
              "1                    21.28                   64.53                 14.20   \n",
              "2                    20.81                   66.88                 12.31   \n",
              "3                    15.20                   68.23                 16.57   \n",
              "4                    20.13                   65.02                 14.85   \n",
              "..                     ...                     ...                   ...   \n",
              "107                  19.81                   65.10                 15.09   \n",
              "108                  19.46                   64.25                 16.29   \n",
              "109                  18.67                   66.42                 14.91   \n",
              "110                  17.51                   60.93                 21.57   \n",
              "111                  15.65                   68.98                 15.38   \n",
              "\n",
              "     Population aged 85+   \n",
              "0                    1.96  \n",
              "1                    1.82  \n",
              "2                    1.43  \n",
              "3                    2.83  \n",
              "4                    2.35  \n",
              "..                    ...  \n",
              "107                  2.31  \n",
              "108                  2.28  \n",
              "109                  2.06  \n",
              "110                  4.04  \n",
              "111                  2.29  \n",
              "\n",
              "[112 rows x 7 columns]"
            ],
            "text/html": [
              "\n",
              "  <div id=\"df-96ced1b9-f651-4009-af50-591e147896f1\" class=\"colab-df-container\">\n",
              "    <div>\n",
              "<style scoped>\n",
              "    .dataframe tbody tr th:only-of-type {\n",
              "        vertical-align: middle;\n",
              "    }\n",
              "\n",
              "    .dataframe tbody tr th {\n",
              "        vertical-align: top;\n",
              "    }\n",
              "\n",
              "    .dataframe thead th {\n",
              "        text-align: right;\n",
              "    }\n",
              "</style>\n",
              "<table border=\"1\" class=\"dataframe\">\n",
              "  <thead>\n",
              "    <tr style=\"text-align: right;\">\n",
              "      <th></th>\n",
              "      <th>TCITY15CD</th>\n",
              "      <th>Town/City</th>\n",
              "      <th>Region/Country</th>\n",
              "      <th>Population aged 0-15</th>\n",
              "      <th>Population aged 16-64</th>\n",
              "      <th>Population aged 65+</th>\n",
              "      <th>Population aged 85+</th>\n",
              "    </tr>\n",
              "  </thead>\n",
              "  <tbody>\n",
              "    <tr>\n",
              "      <th>0</th>\n",
              "      <td>J01000001</td>\n",
              "      <td>Barnsley</td>\n",
              "      <td>Yorkshire and The Humber</td>\n",
              "      <td>18.22</td>\n",
              "      <td>64.67</td>\n",
              "      <td>17.10</td>\n",
              "      <td>1.96</td>\n",
              "    </tr>\n",
              "    <tr>\n",
              "      <th>1</th>\n",
              "      <td>J01000002</td>\n",
              "      <td>Basildon</td>\n",
              "      <td>East of England</td>\n",
              "      <td>21.28</td>\n",
              "      <td>64.53</td>\n",
              "      <td>14.20</td>\n",
              "      <td>1.82</td>\n",
              "    </tr>\n",
              "    <tr>\n",
              "      <th>2</th>\n",
              "      <td>J01000003</td>\n",
              "      <td>Basingstoke</td>\n",
              "      <td>South East</td>\n",
              "      <td>20.81</td>\n",
              "      <td>66.88</td>\n",
              "      <td>12.31</td>\n",
              "      <td>1.43</td>\n",
              "    </tr>\n",
              "    <tr>\n",
              "      <th>3</th>\n",
              "      <td>J01000004</td>\n",
              "      <td>Bath</td>\n",
              "      <td>South West</td>\n",
              "      <td>15.20</td>\n",
              "      <td>68.23</td>\n",
              "      <td>16.57</td>\n",
              "      <td>2.83</td>\n",
              "    </tr>\n",
              "    <tr>\n",
              "      <th>4</th>\n",
              "      <td>J01000005</td>\n",
              "      <td>Bedford</td>\n",
              "      <td>East of England</td>\n",
              "      <td>20.13</td>\n",
              "      <td>65.02</td>\n",
              "      <td>14.85</td>\n",
              "      <td>2.35</td>\n",
              "    </tr>\n",
              "    <tr>\n",
              "      <th>...</th>\n",
              "      <td>...</td>\n",
              "      <td>...</td>\n",
              "      <td>...</td>\n",
              "      <td>...</td>\n",
              "      <td>...</td>\n",
              "      <td>...</td>\n",
              "      <td>...</td>\n",
              "    </tr>\n",
              "    <tr>\n",
              "      <th>107</th>\n",
              "      <td>J01000108</td>\n",
              "      <td>Woking</td>\n",
              "      <td>South East</td>\n",
              "      <td>19.81</td>\n",
              "      <td>65.10</td>\n",
              "      <td>15.09</td>\n",
              "      <td>2.31</td>\n",
              "    </tr>\n",
              "    <tr>\n",
              "      <th>108</th>\n",
              "      <td>J01000109</td>\n",
              "      <td>Wolverhampton</td>\n",
              "      <td>West Midlands</td>\n",
              "      <td>19.46</td>\n",
              "      <td>64.25</td>\n",
              "      <td>16.29</td>\n",
              "      <td>2.28</td>\n",
              "    </tr>\n",
              "    <tr>\n",
              "      <th>109</th>\n",
              "      <td>J01000110</td>\n",
              "      <td>Worcester</td>\n",
              "      <td>West Midlands</td>\n",
              "      <td>18.67</td>\n",
              "      <td>66.42</td>\n",
              "      <td>14.91</td>\n",
              "      <td>2.06</td>\n",
              "    </tr>\n",
              "    <tr>\n",
              "      <th>110</th>\n",
              "      <td>J01000111</td>\n",
              "      <td>Worthing</td>\n",
              "      <td>South East</td>\n",
              "      <td>17.51</td>\n",
              "      <td>60.93</td>\n",
              "      <td>21.57</td>\n",
              "      <td>4.04</td>\n",
              "    </tr>\n",
              "    <tr>\n",
              "      <th>111</th>\n",
              "      <td>J01000112</td>\n",
              "      <td>York</td>\n",
              "      <td>Yorkshire and The Humber</td>\n",
              "      <td>15.65</td>\n",
              "      <td>68.98</td>\n",
              "      <td>15.38</td>\n",
              "      <td>2.29</td>\n",
              "    </tr>\n",
              "  </tbody>\n",
              "</table>\n",
              "<p>112 rows × 7 columns</p>\n",
              "</div>\n",
              "    <div class=\"colab-df-buttons\">\n",
              "\n",
              "  <div class=\"colab-df-container\">\n",
              "    <button class=\"colab-df-convert\" onclick=\"convertToInteractive('df-96ced1b9-f651-4009-af50-591e147896f1')\"\n",
              "            title=\"Convert this dataframe to an interactive table.\"\n",
              "            style=\"display:none;\">\n",
              "\n",
              "  <svg xmlns=\"http://www.w3.org/2000/svg\" height=\"24px\" viewBox=\"0 -960 960 960\">\n",
              "    <path d=\"M120-120v-720h720v720H120Zm60-500h600v-160H180v160Zm220 220h160v-160H400v160Zm0 220h160v-160H400v160ZM180-400h160v-160H180v160Zm440 0h160v-160H620v160ZM180-180h160v-160H180v160Zm440 0h160v-160H620v160Z\"/>\n",
              "  </svg>\n",
              "    </button>\n",
              "\n",
              "  <style>\n",
              "    .colab-df-container {\n",
              "      display:flex;\n",
              "      gap: 12px;\n",
              "    }\n",
              "\n",
              "    .colab-df-convert {\n",
              "      background-color: #E8F0FE;\n",
              "      border: none;\n",
              "      border-radius: 50%;\n",
              "      cursor: pointer;\n",
              "      display: none;\n",
              "      fill: #1967D2;\n",
              "      height: 32px;\n",
              "      padding: 0 0 0 0;\n",
              "      width: 32px;\n",
              "    }\n",
              "\n",
              "    .colab-df-convert:hover {\n",
              "      background-color: #E2EBFA;\n",
              "      box-shadow: 0px 1px 2px rgba(60, 64, 67, 0.3), 0px 1px 3px 1px rgba(60, 64, 67, 0.15);\n",
              "      fill: #174EA6;\n",
              "    }\n",
              "\n",
              "    .colab-df-buttons div {\n",
              "      margin-bottom: 4px;\n",
              "    }\n",
              "\n",
              "    [theme=dark] .colab-df-convert {\n",
              "      background-color: #3B4455;\n",
              "      fill: #D2E3FC;\n",
              "    }\n",
              "\n",
              "    [theme=dark] .colab-df-convert:hover {\n",
              "      background-color: #434B5C;\n",
              "      box-shadow: 0px 1px 3px 1px rgba(0, 0, 0, 0.15);\n",
              "      filter: drop-shadow(0px 1px 2px rgba(0, 0, 0, 0.3));\n",
              "      fill: #FFFFFF;\n",
              "    }\n",
              "  </style>\n",
              "\n",
              "    <script>\n",
              "      const buttonEl =\n",
              "        document.querySelector('#df-96ced1b9-f651-4009-af50-591e147896f1 button.colab-df-convert');\n",
              "      buttonEl.style.display =\n",
              "        google.colab.kernel.accessAllowed ? 'block' : 'none';\n",
              "\n",
              "      async function convertToInteractive(key) {\n",
              "        const element = document.querySelector('#df-96ced1b9-f651-4009-af50-591e147896f1');\n",
              "        const dataTable =\n",
              "          await google.colab.kernel.invokeFunction('convertToInteractive',\n",
              "                                                    [key], {});\n",
              "        if (!dataTable) return;\n",
              "\n",
              "        const docLinkHtml = 'Like what you see? Visit the ' +\n",
              "          '<a target=\"_blank\" href=https://colab.research.google.com/notebooks/data_table.ipynb>data table notebook</a>'\n",
              "          + ' to learn more about interactive tables.';\n",
              "        element.innerHTML = '';\n",
              "        dataTable['output_type'] = 'display_data';\n",
              "        await google.colab.output.renderOutput(dataTable, element);\n",
              "        const docLink = document.createElement('div');\n",
              "        docLink.innerHTML = docLinkHtml;\n",
              "        element.appendChild(docLink);\n",
              "      }\n",
              "    </script>\n",
              "  </div>\n",
              "\n",
              "\n",
              "<div id=\"df-590c7678-8e88-4577-ae1e-6bf18a9c3f9b\">\n",
              "  <button class=\"colab-df-quickchart\" onclick=\"quickchart('df-590c7678-8e88-4577-ae1e-6bf18a9c3f9b')\"\n",
              "            title=\"Suggest charts\"\n",
              "            style=\"display:none;\">\n",
              "\n",
              "<svg xmlns=\"http://www.w3.org/2000/svg\" height=\"24px\"viewBox=\"0 0 24 24\"\n",
              "     width=\"24px\">\n",
              "    <g>\n",
              "        <path d=\"M19 3H5c-1.1 0-2 .9-2 2v14c0 1.1.9 2 2 2h14c1.1 0 2-.9 2-2V5c0-1.1-.9-2-2-2zM9 17H7v-7h2v7zm4 0h-2V7h2v10zm4 0h-2v-4h2v4z\"/>\n",
              "    </g>\n",
              "</svg>\n",
              "  </button>\n",
              "\n",
              "<style>\n",
              "  .colab-df-quickchart {\n",
              "      --bg-color: #E8F0FE;\n",
              "      --fill-color: #1967D2;\n",
              "      --hover-bg-color: #E2EBFA;\n",
              "      --hover-fill-color: #174EA6;\n",
              "      --disabled-fill-color: #AAA;\n",
              "      --disabled-bg-color: #DDD;\n",
              "  }\n",
              "\n",
              "  [theme=dark] .colab-df-quickchart {\n",
              "      --bg-color: #3B4455;\n",
              "      --fill-color: #D2E3FC;\n",
              "      --hover-bg-color: #434B5C;\n",
              "      --hover-fill-color: #FFFFFF;\n",
              "      --disabled-bg-color: #3B4455;\n",
              "      --disabled-fill-color: #666;\n",
              "  }\n",
              "\n",
              "  .colab-df-quickchart {\n",
              "    background-color: var(--bg-color);\n",
              "    border: none;\n",
              "    border-radius: 50%;\n",
              "    cursor: pointer;\n",
              "    display: none;\n",
              "    fill: var(--fill-color);\n",
              "    height: 32px;\n",
              "    padding: 0;\n",
              "    width: 32px;\n",
              "  }\n",
              "\n",
              "  .colab-df-quickchart:hover {\n",
              "    background-color: var(--hover-bg-color);\n",
              "    box-shadow: 0 1px 2px rgba(60, 64, 67, 0.3), 0 1px 3px 1px rgba(60, 64, 67, 0.15);\n",
              "    fill: var(--button-hover-fill-color);\n",
              "  }\n",
              "\n",
              "  .colab-df-quickchart-complete:disabled,\n",
              "  .colab-df-quickchart-complete:disabled:hover {\n",
              "    background-color: var(--disabled-bg-color);\n",
              "    fill: var(--disabled-fill-color);\n",
              "    box-shadow: none;\n",
              "  }\n",
              "\n",
              "  .colab-df-spinner {\n",
              "    border: 2px solid var(--fill-color);\n",
              "    border-color: transparent;\n",
              "    border-bottom-color: var(--fill-color);\n",
              "    animation:\n",
              "      spin 1s steps(1) infinite;\n",
              "  }\n",
              "\n",
              "  @keyframes spin {\n",
              "    0% {\n",
              "      border-color: transparent;\n",
              "      border-bottom-color: var(--fill-color);\n",
              "      border-left-color: var(--fill-color);\n",
              "    }\n",
              "    20% {\n",
              "      border-color: transparent;\n",
              "      border-left-color: var(--fill-color);\n",
              "      border-top-color: var(--fill-color);\n",
              "    }\n",
              "    30% {\n",
              "      border-color: transparent;\n",
              "      border-left-color: var(--fill-color);\n",
              "      border-top-color: var(--fill-color);\n",
              "      border-right-color: var(--fill-color);\n",
              "    }\n",
              "    40% {\n",
              "      border-color: transparent;\n",
              "      border-right-color: var(--fill-color);\n",
              "      border-top-color: var(--fill-color);\n",
              "    }\n",
              "    60% {\n",
              "      border-color: transparent;\n",
              "      border-right-color: var(--fill-color);\n",
              "    }\n",
              "    80% {\n",
              "      border-color: transparent;\n",
              "      border-right-color: var(--fill-color);\n",
              "      border-bottom-color: var(--fill-color);\n",
              "    }\n",
              "    90% {\n",
              "      border-color: transparent;\n",
              "      border-bottom-color: var(--fill-color);\n",
              "    }\n",
              "  }\n",
              "</style>\n",
              "\n",
              "  <script>\n",
              "    async function quickchart(key) {\n",
              "      const quickchartButtonEl =\n",
              "        document.querySelector('#' + key + ' button');\n",
              "      quickchartButtonEl.disabled = true;  // To prevent multiple clicks.\n",
              "      quickchartButtonEl.classList.add('colab-df-spinner');\n",
              "      try {\n",
              "        const charts = await google.colab.kernel.invokeFunction(\n",
              "            'suggestCharts', [key], {});\n",
              "      } catch (error) {\n",
              "        console.error('Error during call to suggestCharts:', error);\n",
              "      }\n",
              "      quickchartButtonEl.classList.remove('colab-df-spinner');\n",
              "      quickchartButtonEl.classList.add('colab-df-quickchart-complete');\n",
              "    }\n",
              "    (() => {\n",
              "      let quickchartButtonEl =\n",
              "        document.querySelector('#df-590c7678-8e88-4577-ae1e-6bf18a9c3f9b button');\n",
              "      quickchartButtonEl.style.display =\n",
              "        google.colab.kernel.accessAllowed ? 'block' : 'none';\n",
              "    })();\n",
              "  </script>\n",
              "</div>\n",
              "    </div>\n",
              "  </div>\n"
            ]
          },
          "metadata": {},
          "execution_count": 42
        }
      ]
    },
    {
      "cell_type": "markdown",
      "source": [
        "The table above shows the top and tail (first and last five rows of data) of the **dataframe**, which is a data table in pandas. It's called a data \"frame\" because it's a flat, two-dimensional table of data organised in columns and rows."
      ],
      "metadata": {
        "id": "Pn1tZqaGp-rU"
      }
    },
    {
      "cell_type": "markdown",
      "source": [
        "# Describe the data using functions\n",
        "Let's try some functions to summarise the data (for reference: [tutorial on calculating summary statistics with pandas](https://pandas.pydata.org/docs/getting_started/intro_tutorials/06_calculate_statistics.html)):"
      ],
      "metadata": {
        "id": "R7rxhDhdyZJy"
      }
    },
    {
      "cell_type": "markdown",
      "source": [
        "## `keys()`\n",
        "List all the column headings in the dataset. This is very handy when you have a large number of columns."
      ],
      "metadata": {
        "id": "gXW45fy7ihzh"
      }
    },
    {
      "cell_type": "code",
      "source": [
        "# Show a list of column headings\n",
        "df.keys()"
      ],
      "metadata": {
        "id": "fKFKukq5AbcK",
        "colab": {
          "base_uri": "https://localhost:8080/"
        },
        "outputId": "27e9cf0b-8505-4caf-9895-6e9a742af842"
      },
      "execution_count": null,
      "outputs": [
        {
          "output_type": "execute_result",
          "data": {
            "text/plain": [
              "Index(['TCITY15CD', 'Town/City', 'Region/Country', 'Population aged 0-15 ',\n",
              "       'Population aged 16-64 ', 'Population aged 65+ ',\n",
              "       'Population aged 85+ '],\n",
              "      dtype='object')"
            ]
          },
          "metadata": {},
          "execution_count": 43
        }
      ]
    },
    {
      "cell_type": "markdown",
      "source": [
        "## `info()`\n",
        "The `info()` function gives you the basic shape\n",
        "(rows and columns) of the dataframe, a list of columns, and a description of how many have data in them (i.e., are \"non-null\") and what data type they are."
      ],
      "metadata": {
        "id": "2BDavufu77gr"
      }
    },
    {
      "cell_type": "code",
      "source": [
        "df.info()"
      ],
      "metadata": {
        "id": "8kOCkb1opeAN",
        "colab": {
          "base_uri": "https://localhost:8080/"
        },
        "outputId": "200caac8-ceea-4c46-efa8-68ce8fb37cd1"
      },
      "execution_count": null,
      "outputs": [
        {
          "output_type": "stream",
          "name": "stdout",
          "text": [
            "<class 'pandas.core.frame.DataFrame'>\n",
            "RangeIndex: 112 entries, 0 to 111\n",
            "Data columns (total 7 columns):\n",
            " #   Column                  Non-Null Count  Dtype  \n",
            "---  ------                  --------------  -----  \n",
            " 0   TCITY15CD               112 non-null    object \n",
            " 1   Town/City               112 non-null    object \n",
            " 2   Region/Country          112 non-null    object \n",
            " 3   Population aged 0-15    112 non-null    float64\n",
            " 4   Population aged 16-64   112 non-null    float64\n",
            " 5   Population aged 65+     112 non-null    float64\n",
            " 6   Population aged 85+     112 non-null    float64\n",
            "dtypes: float64(4), object(3)\n",
            "memory usage: 6.2+ KB\n"
          ]
        }
      ]
    },
    {
      "cell_type": "markdown",
      "source": [
        "## `describe()`\n",
        "The `describe()` function gives you descriptive statistics about the numerical columns in your dataframe. These 8 data points can tell you a lot about your dataset at a glance, especially how the data is *distributed* within each column."
      ],
      "metadata": {
        "id": "Yw1bzwvc8DNG"
      }
    },
    {
      "cell_type": "code",
      "source": [
        "df.describe().round(2)"
      ],
      "metadata": {
        "id": "Dr85pozhpd9Z",
        "colab": {
          "base_uri": "https://localhost:8080/",
          "height": 300
        },
        "outputId": "279381e5-6689-4088-c684-464efd9a5d9e"
      },
      "execution_count": null,
      "outputs": [
        {
          "output_type": "execute_result",
          "data": {
            "text/plain": [
              "       Population aged 0-15   Population aged 16-64   Population aged 65+   \\\n",
              "count                 112.00                  112.00                112.00   \n",
              "mean                   19.26                   65.61                 15.13   \n",
              "std                     2.09                    2.42                  2.62   \n",
              "min                    15.14                   60.03                  8.76   \n",
              "25%                    17.88                   64.10                 13.38   \n",
              "50%                    19.30                   65.33                 15.06   \n",
              "75%                    20.25                   66.74                 16.56   \n",
              "max                    26.17                   72.60                 23.18   \n",
              "\n",
              "       Population aged 85+   \n",
              "count                112.00  \n",
              "mean                   2.12  \n",
              "std                    0.54  \n",
              "min                    1.10  \n",
              "25%                    1.77  \n",
              "50%                    2.03  \n",
              "75%                    2.28  \n",
              "max                    4.16  "
            ],
            "text/html": [
              "\n",
              "  <div id=\"df-a07c21a0-fdb3-4043-91f8-8870e573664e\" class=\"colab-df-container\">\n",
              "    <div>\n",
              "<style scoped>\n",
              "    .dataframe tbody tr th:only-of-type {\n",
              "        vertical-align: middle;\n",
              "    }\n",
              "\n",
              "    .dataframe tbody tr th {\n",
              "        vertical-align: top;\n",
              "    }\n",
              "\n",
              "    .dataframe thead th {\n",
              "        text-align: right;\n",
              "    }\n",
              "</style>\n",
              "<table border=\"1\" class=\"dataframe\">\n",
              "  <thead>\n",
              "    <tr style=\"text-align: right;\">\n",
              "      <th></th>\n",
              "      <th>Population aged 0-15</th>\n",
              "      <th>Population aged 16-64</th>\n",
              "      <th>Population aged 65+</th>\n",
              "      <th>Population aged 85+</th>\n",
              "    </tr>\n",
              "  </thead>\n",
              "  <tbody>\n",
              "    <tr>\n",
              "      <th>count</th>\n",
              "      <td>112.00</td>\n",
              "      <td>112.00</td>\n",
              "      <td>112.00</td>\n",
              "      <td>112.00</td>\n",
              "    </tr>\n",
              "    <tr>\n",
              "      <th>mean</th>\n",
              "      <td>19.26</td>\n",
              "      <td>65.61</td>\n",
              "      <td>15.13</td>\n",
              "      <td>2.12</td>\n",
              "    </tr>\n",
              "    <tr>\n",
              "      <th>std</th>\n",
              "      <td>2.09</td>\n",
              "      <td>2.42</td>\n",
              "      <td>2.62</td>\n",
              "      <td>0.54</td>\n",
              "    </tr>\n",
              "    <tr>\n",
              "      <th>min</th>\n",
              "      <td>15.14</td>\n",
              "      <td>60.03</td>\n",
              "      <td>8.76</td>\n",
              "      <td>1.10</td>\n",
              "    </tr>\n",
              "    <tr>\n",
              "      <th>25%</th>\n",
              "      <td>17.88</td>\n",
              "      <td>64.10</td>\n",
              "      <td>13.38</td>\n",
              "      <td>1.77</td>\n",
              "    </tr>\n",
              "    <tr>\n",
              "      <th>50%</th>\n",
              "      <td>19.30</td>\n",
              "      <td>65.33</td>\n",
              "      <td>15.06</td>\n",
              "      <td>2.03</td>\n",
              "    </tr>\n",
              "    <tr>\n",
              "      <th>75%</th>\n",
              "      <td>20.25</td>\n",
              "      <td>66.74</td>\n",
              "      <td>16.56</td>\n",
              "      <td>2.28</td>\n",
              "    </tr>\n",
              "    <tr>\n",
              "      <th>max</th>\n",
              "      <td>26.17</td>\n",
              "      <td>72.60</td>\n",
              "      <td>23.18</td>\n",
              "      <td>4.16</td>\n",
              "    </tr>\n",
              "  </tbody>\n",
              "</table>\n",
              "</div>\n",
              "    <div class=\"colab-df-buttons\">\n",
              "\n",
              "  <div class=\"colab-df-container\">\n",
              "    <button class=\"colab-df-convert\" onclick=\"convertToInteractive('df-a07c21a0-fdb3-4043-91f8-8870e573664e')\"\n",
              "            title=\"Convert this dataframe to an interactive table.\"\n",
              "            style=\"display:none;\">\n",
              "\n",
              "  <svg xmlns=\"http://www.w3.org/2000/svg\" height=\"24px\" viewBox=\"0 -960 960 960\">\n",
              "    <path d=\"M120-120v-720h720v720H120Zm60-500h600v-160H180v160Zm220 220h160v-160H400v160Zm0 220h160v-160H400v160ZM180-400h160v-160H180v160Zm440 0h160v-160H620v160ZM180-180h160v-160H180v160Zm440 0h160v-160H620v160Z\"/>\n",
              "  </svg>\n",
              "    </button>\n",
              "\n",
              "  <style>\n",
              "    .colab-df-container {\n",
              "      display:flex;\n",
              "      gap: 12px;\n",
              "    }\n",
              "\n",
              "    .colab-df-convert {\n",
              "      background-color: #E8F0FE;\n",
              "      border: none;\n",
              "      border-radius: 50%;\n",
              "      cursor: pointer;\n",
              "      display: none;\n",
              "      fill: #1967D2;\n",
              "      height: 32px;\n",
              "      padding: 0 0 0 0;\n",
              "      width: 32px;\n",
              "    }\n",
              "\n",
              "    .colab-df-convert:hover {\n",
              "      background-color: #E2EBFA;\n",
              "      box-shadow: 0px 1px 2px rgba(60, 64, 67, 0.3), 0px 1px 3px 1px rgba(60, 64, 67, 0.15);\n",
              "      fill: #174EA6;\n",
              "    }\n",
              "\n",
              "    .colab-df-buttons div {\n",
              "      margin-bottom: 4px;\n",
              "    }\n",
              "\n",
              "    [theme=dark] .colab-df-convert {\n",
              "      background-color: #3B4455;\n",
              "      fill: #D2E3FC;\n",
              "    }\n",
              "\n",
              "    [theme=dark] .colab-df-convert:hover {\n",
              "      background-color: #434B5C;\n",
              "      box-shadow: 0px 1px 3px 1px rgba(0, 0, 0, 0.15);\n",
              "      filter: drop-shadow(0px 1px 2px rgba(0, 0, 0, 0.3));\n",
              "      fill: #FFFFFF;\n",
              "    }\n",
              "  </style>\n",
              "\n",
              "    <script>\n",
              "      const buttonEl =\n",
              "        document.querySelector('#df-a07c21a0-fdb3-4043-91f8-8870e573664e button.colab-df-convert');\n",
              "      buttonEl.style.display =\n",
              "        google.colab.kernel.accessAllowed ? 'block' : 'none';\n",
              "\n",
              "      async function convertToInteractive(key) {\n",
              "        const element = document.querySelector('#df-a07c21a0-fdb3-4043-91f8-8870e573664e');\n",
              "        const dataTable =\n",
              "          await google.colab.kernel.invokeFunction('convertToInteractive',\n",
              "                                                    [key], {});\n",
              "        if (!dataTable) return;\n",
              "\n",
              "        const docLinkHtml = 'Like what you see? Visit the ' +\n",
              "          '<a target=\"_blank\" href=https://colab.research.google.com/notebooks/data_table.ipynb>data table notebook</a>'\n",
              "          + ' to learn more about interactive tables.';\n",
              "        element.innerHTML = '';\n",
              "        dataTable['output_type'] = 'display_data';\n",
              "        await google.colab.output.renderOutput(dataTable, element);\n",
              "        const docLink = document.createElement('div');\n",
              "        docLink.innerHTML = docLinkHtml;\n",
              "        element.appendChild(docLink);\n",
              "      }\n",
              "    </script>\n",
              "  </div>\n",
              "\n",
              "\n",
              "<div id=\"df-50923e82-3492-4308-bc15-817a4bf10954\">\n",
              "  <button class=\"colab-df-quickchart\" onclick=\"quickchart('df-50923e82-3492-4308-bc15-817a4bf10954')\"\n",
              "            title=\"Suggest charts\"\n",
              "            style=\"display:none;\">\n",
              "\n",
              "<svg xmlns=\"http://www.w3.org/2000/svg\" height=\"24px\"viewBox=\"0 0 24 24\"\n",
              "     width=\"24px\">\n",
              "    <g>\n",
              "        <path d=\"M19 3H5c-1.1 0-2 .9-2 2v14c0 1.1.9 2 2 2h14c1.1 0 2-.9 2-2V5c0-1.1-.9-2-2-2zM9 17H7v-7h2v7zm4 0h-2V7h2v10zm4 0h-2v-4h2v4z\"/>\n",
              "    </g>\n",
              "</svg>\n",
              "  </button>\n",
              "\n",
              "<style>\n",
              "  .colab-df-quickchart {\n",
              "      --bg-color: #E8F0FE;\n",
              "      --fill-color: #1967D2;\n",
              "      --hover-bg-color: #E2EBFA;\n",
              "      --hover-fill-color: #174EA6;\n",
              "      --disabled-fill-color: #AAA;\n",
              "      --disabled-bg-color: #DDD;\n",
              "  }\n",
              "\n",
              "  [theme=dark] .colab-df-quickchart {\n",
              "      --bg-color: #3B4455;\n",
              "      --fill-color: #D2E3FC;\n",
              "      --hover-bg-color: #434B5C;\n",
              "      --hover-fill-color: #FFFFFF;\n",
              "      --disabled-bg-color: #3B4455;\n",
              "      --disabled-fill-color: #666;\n",
              "  }\n",
              "\n",
              "  .colab-df-quickchart {\n",
              "    background-color: var(--bg-color);\n",
              "    border: none;\n",
              "    border-radius: 50%;\n",
              "    cursor: pointer;\n",
              "    display: none;\n",
              "    fill: var(--fill-color);\n",
              "    height: 32px;\n",
              "    padding: 0;\n",
              "    width: 32px;\n",
              "  }\n",
              "\n",
              "  .colab-df-quickchart:hover {\n",
              "    background-color: var(--hover-bg-color);\n",
              "    box-shadow: 0 1px 2px rgba(60, 64, 67, 0.3), 0 1px 3px 1px rgba(60, 64, 67, 0.15);\n",
              "    fill: var(--button-hover-fill-color);\n",
              "  }\n",
              "\n",
              "  .colab-df-quickchart-complete:disabled,\n",
              "  .colab-df-quickchart-complete:disabled:hover {\n",
              "    background-color: var(--disabled-bg-color);\n",
              "    fill: var(--disabled-fill-color);\n",
              "    box-shadow: none;\n",
              "  }\n",
              "\n",
              "  .colab-df-spinner {\n",
              "    border: 2px solid var(--fill-color);\n",
              "    border-color: transparent;\n",
              "    border-bottom-color: var(--fill-color);\n",
              "    animation:\n",
              "      spin 1s steps(1) infinite;\n",
              "  }\n",
              "\n",
              "  @keyframes spin {\n",
              "    0% {\n",
              "      border-color: transparent;\n",
              "      border-bottom-color: var(--fill-color);\n",
              "      border-left-color: var(--fill-color);\n",
              "    }\n",
              "    20% {\n",
              "      border-color: transparent;\n",
              "      border-left-color: var(--fill-color);\n",
              "      border-top-color: var(--fill-color);\n",
              "    }\n",
              "    30% {\n",
              "      border-color: transparent;\n",
              "      border-left-color: var(--fill-color);\n",
              "      border-top-color: var(--fill-color);\n",
              "      border-right-color: var(--fill-color);\n",
              "    }\n",
              "    40% {\n",
              "      border-color: transparent;\n",
              "      border-right-color: var(--fill-color);\n",
              "      border-top-color: var(--fill-color);\n",
              "    }\n",
              "    60% {\n",
              "      border-color: transparent;\n",
              "      border-right-color: var(--fill-color);\n",
              "    }\n",
              "    80% {\n",
              "      border-color: transparent;\n",
              "      border-right-color: var(--fill-color);\n",
              "      border-bottom-color: var(--fill-color);\n",
              "    }\n",
              "    90% {\n",
              "      border-color: transparent;\n",
              "      border-bottom-color: var(--fill-color);\n",
              "    }\n",
              "  }\n",
              "</style>\n",
              "\n",
              "  <script>\n",
              "    async function quickchart(key) {\n",
              "      const quickchartButtonEl =\n",
              "        document.querySelector('#' + key + ' button');\n",
              "      quickchartButtonEl.disabled = true;  // To prevent multiple clicks.\n",
              "      quickchartButtonEl.classList.add('colab-df-spinner');\n",
              "      try {\n",
              "        const charts = await google.colab.kernel.invokeFunction(\n",
              "            'suggestCharts', [key], {});\n",
              "      } catch (error) {\n",
              "        console.error('Error during call to suggestCharts:', error);\n",
              "      }\n",
              "      quickchartButtonEl.classList.remove('colab-df-spinner');\n",
              "      quickchartButtonEl.classList.add('colab-df-quickchart-complete');\n",
              "    }\n",
              "    (() => {\n",
              "      let quickchartButtonEl =\n",
              "        document.querySelector('#df-50923e82-3492-4308-bc15-817a4bf10954 button');\n",
              "      quickchartButtonEl.style.display =\n",
              "        google.colab.kernel.accessAllowed ? 'block' : 'none';\n",
              "    })();\n",
              "  </script>\n",
              "</div>\n",
              "    </div>\n",
              "  </div>\n"
            ]
          },
          "metadata": {},
          "execution_count": 45
        }
      ]
    },
    {
      "cell_type": "markdown",
      "source": [
        "## `unique()`\n",
        "Show all the unique values in a column. This is very handy when working with categorical data where there is a finite number of values available, such as location, gender, ethnicity, etc."
      ],
      "metadata": {
        "id": "AOLjIfdF5f6M"
      }
    },
    {
      "cell_type": "code",
      "source": [
        "df['Region/Country'].unique()"
      ],
      "metadata": {
        "id": "yzYZLx-c7OIe",
        "colab": {
          "base_uri": "https://localhost:8080/"
        },
        "outputId": "98de5a3f-2e0e-4e90-87e4-a6ea9f519ede"
      },
      "execution_count": null,
      "outputs": [
        {
          "output_type": "execute_result",
          "data": {
            "text/plain": [
              "array(['Yorkshire and The Humber', 'East of England', 'South East',\n",
              "       'South West', 'North West', 'West Midlands', 'Wales',\n",
              "       'East Midlands', 'North East', 'London'], dtype=object)"
            ]
          },
          "metadata": {},
          "execution_count": 46
        }
      ]
    },
    {
      "cell_type": "markdown",
      "source": [
        "## `sort_values()`\n",
        "You can sort the dataframe by one or more column. The code below sorts the dataframe. The `slice` operator `[:10]` at the end instructs Python to only show the first 10 rows."
      ],
      "metadata": {
        "id": "S7NgOzXf8Uu7"
      }
    },
    {
      "cell_type": "code",
      "source": [
        "df.keys()"
      ],
      "metadata": {
        "colab": {
          "base_uri": "https://localhost:8080/"
        },
        "id": "8ILXrumaxFkI",
        "outputId": "2a7c2654-36b6-45ec-c139-598dc380eba5"
      },
      "execution_count": null,
      "outputs": [
        {
          "output_type": "execute_result",
          "data": {
            "text/plain": [
              "Index(['TCITY15CD', 'Town/City', 'Region/Country', 'Population aged 0-15 ',\n",
              "       'Population aged 16-64 ', 'Population aged 65+ ',\n",
              "       'Population aged 85+ '],\n",
              "      dtype='object')"
            ]
          },
          "metadata": {},
          "execution_count": 47
        }
      ]
    },
    {
      "cell_type": "code",
      "source": [
        "# Top 10 regions for the largest percentage of children in the population\n",
        "df.sort_values(by='Population aged 0-15 ', ascending=False)[:10]"
      ],
      "metadata": {
        "id": "Vprkh9nJAbIW",
        "colab": {
          "base_uri": "https://localhost:8080/",
          "height": 415
        },
        "outputId": "a9ef8974-d83a-4f1d-d05f-34e92eecd818"
      },
      "execution_count": null,
      "outputs": [
        {
          "output_type": "execute_result",
          "data": {
            "text/plain": [
              "     TCITY15CD        Town/City            Region/Country  \\\n",
              "68   J01000069         Oldham                  North West   \n",
              "12   J01000013       Bradford    Yorkshire and The Humber   \n",
              "7    J01000008      Blackburn                  North West   \n",
              "83   J01000084         Slough                  South East   \n",
              "101  J01000102        Walsall               West Midlands   \n",
              "60   J01000061  Milton Keynes                  South East   \n",
              "77   J01000078       Rochdale                  North West   \n",
              "55   J01000056          Luton             East of England   \n",
              "6    J01000007     Birmingham               West Midlands   \n",
              "32   J01000033           Dudley             West Midlands   \n",
              "\n",
              "     Population aged 0-15   Population aged 16-64   Population aged 65+   \\\n",
              "68                   26.17                   62.50                 11.33   \n",
              "12                   25.36                   63.46                 11.18   \n",
              "7                    24.32                   63.05                 12.63   \n",
              "83                   23.65                   66.50                  9.85   \n",
              "101                  23.51                   62.94                 13.55   \n",
              "60                   23.25                   67.99                  8.76   \n",
              "77                   23.19                   63.30                 13.51   \n",
              "55                   22.88                   65.18                 11.94   \n",
              "6                    22.86                   64.39                 12.75   \n",
              "32                   21.83                   62.95                 15.23   \n",
              "\n",
              "     Population aged 85+   \n",
              "68                   1.59  \n",
              "12                   1.44  \n",
              "7                    1.59  \n",
              "83                   1.29  \n",
              "101                  1.66  \n",
              "60                   1.10  \n",
              "77                   1.70  \n",
              "55                   1.40  \n",
              "6                    1.72  \n",
              "32                   2.06  "
            ],
            "text/html": [
              "\n",
              "  <div id=\"df-d3a8e88c-23a1-43b8-8c75-56206be3a677\" class=\"colab-df-container\">\n",
              "    <div>\n",
              "<style scoped>\n",
              "    .dataframe tbody tr th:only-of-type {\n",
              "        vertical-align: middle;\n",
              "    }\n",
              "\n",
              "    .dataframe tbody tr th {\n",
              "        vertical-align: top;\n",
              "    }\n",
              "\n",
              "    .dataframe thead th {\n",
              "        text-align: right;\n",
              "    }\n",
              "</style>\n",
              "<table border=\"1\" class=\"dataframe\">\n",
              "  <thead>\n",
              "    <tr style=\"text-align: right;\">\n",
              "      <th></th>\n",
              "      <th>TCITY15CD</th>\n",
              "      <th>Town/City</th>\n",
              "      <th>Region/Country</th>\n",
              "      <th>Population aged 0-15</th>\n",
              "      <th>Population aged 16-64</th>\n",
              "      <th>Population aged 65+</th>\n",
              "      <th>Population aged 85+</th>\n",
              "    </tr>\n",
              "  </thead>\n",
              "  <tbody>\n",
              "    <tr>\n",
              "      <th>68</th>\n",
              "      <td>J01000069</td>\n",
              "      <td>Oldham</td>\n",
              "      <td>North West</td>\n",
              "      <td>26.17</td>\n",
              "      <td>62.50</td>\n",
              "      <td>11.33</td>\n",
              "      <td>1.59</td>\n",
              "    </tr>\n",
              "    <tr>\n",
              "      <th>12</th>\n",
              "      <td>J01000013</td>\n",
              "      <td>Bradford</td>\n",
              "      <td>Yorkshire and The Humber</td>\n",
              "      <td>25.36</td>\n",
              "      <td>63.46</td>\n",
              "      <td>11.18</td>\n",
              "      <td>1.44</td>\n",
              "    </tr>\n",
              "    <tr>\n",
              "      <th>7</th>\n",
              "      <td>J01000008</td>\n",
              "      <td>Blackburn</td>\n",
              "      <td>North West</td>\n",
              "      <td>24.32</td>\n",
              "      <td>63.05</td>\n",
              "      <td>12.63</td>\n",
              "      <td>1.59</td>\n",
              "    </tr>\n",
              "    <tr>\n",
              "      <th>83</th>\n",
              "      <td>J01000084</td>\n",
              "      <td>Slough</td>\n",
              "      <td>South East</td>\n",
              "      <td>23.65</td>\n",
              "      <td>66.50</td>\n",
              "      <td>9.85</td>\n",
              "      <td>1.29</td>\n",
              "    </tr>\n",
              "    <tr>\n",
              "      <th>101</th>\n",
              "      <td>J01000102</td>\n",
              "      <td>Walsall</td>\n",
              "      <td>West Midlands</td>\n",
              "      <td>23.51</td>\n",
              "      <td>62.94</td>\n",
              "      <td>13.55</td>\n",
              "      <td>1.66</td>\n",
              "    </tr>\n",
              "    <tr>\n",
              "      <th>60</th>\n",
              "      <td>J01000061</td>\n",
              "      <td>Milton Keynes</td>\n",
              "      <td>South East</td>\n",
              "      <td>23.25</td>\n",
              "      <td>67.99</td>\n",
              "      <td>8.76</td>\n",
              "      <td>1.10</td>\n",
              "    </tr>\n",
              "    <tr>\n",
              "      <th>77</th>\n",
              "      <td>J01000078</td>\n",
              "      <td>Rochdale</td>\n",
              "      <td>North West</td>\n",
              "      <td>23.19</td>\n",
              "      <td>63.30</td>\n",
              "      <td>13.51</td>\n",
              "      <td>1.70</td>\n",
              "    </tr>\n",
              "    <tr>\n",
              "      <th>55</th>\n",
              "      <td>J01000056</td>\n",
              "      <td>Luton</td>\n",
              "      <td>East of England</td>\n",
              "      <td>22.88</td>\n",
              "      <td>65.18</td>\n",
              "      <td>11.94</td>\n",
              "      <td>1.40</td>\n",
              "    </tr>\n",
              "    <tr>\n",
              "      <th>6</th>\n",
              "      <td>J01000007</td>\n",
              "      <td>Birmingham</td>\n",
              "      <td>West Midlands</td>\n",
              "      <td>22.86</td>\n",
              "      <td>64.39</td>\n",
              "      <td>12.75</td>\n",
              "      <td>1.72</td>\n",
              "    </tr>\n",
              "    <tr>\n",
              "      <th>32</th>\n",
              "      <td>J01000033</td>\n",
              "      <td>Dudley</td>\n",
              "      <td>West Midlands</td>\n",
              "      <td>21.83</td>\n",
              "      <td>62.95</td>\n",
              "      <td>15.23</td>\n",
              "      <td>2.06</td>\n",
              "    </tr>\n",
              "  </tbody>\n",
              "</table>\n",
              "</div>\n",
              "    <div class=\"colab-df-buttons\">\n",
              "\n",
              "  <div class=\"colab-df-container\">\n",
              "    <button class=\"colab-df-convert\" onclick=\"convertToInteractive('df-d3a8e88c-23a1-43b8-8c75-56206be3a677')\"\n",
              "            title=\"Convert this dataframe to an interactive table.\"\n",
              "            style=\"display:none;\">\n",
              "\n",
              "  <svg xmlns=\"http://www.w3.org/2000/svg\" height=\"24px\" viewBox=\"0 -960 960 960\">\n",
              "    <path d=\"M120-120v-720h720v720H120Zm60-500h600v-160H180v160Zm220 220h160v-160H400v160Zm0 220h160v-160H400v160ZM180-400h160v-160H180v160Zm440 0h160v-160H620v160ZM180-180h160v-160H180v160Zm440 0h160v-160H620v160Z\"/>\n",
              "  </svg>\n",
              "    </button>\n",
              "\n",
              "  <style>\n",
              "    .colab-df-container {\n",
              "      display:flex;\n",
              "      gap: 12px;\n",
              "    }\n",
              "\n",
              "    .colab-df-convert {\n",
              "      background-color: #E8F0FE;\n",
              "      border: none;\n",
              "      border-radius: 50%;\n",
              "      cursor: pointer;\n",
              "      display: none;\n",
              "      fill: #1967D2;\n",
              "      height: 32px;\n",
              "      padding: 0 0 0 0;\n",
              "      width: 32px;\n",
              "    }\n",
              "\n",
              "    .colab-df-convert:hover {\n",
              "      background-color: #E2EBFA;\n",
              "      box-shadow: 0px 1px 2px rgba(60, 64, 67, 0.3), 0px 1px 3px 1px rgba(60, 64, 67, 0.15);\n",
              "      fill: #174EA6;\n",
              "    }\n",
              "\n",
              "    .colab-df-buttons div {\n",
              "      margin-bottom: 4px;\n",
              "    }\n",
              "\n",
              "    [theme=dark] .colab-df-convert {\n",
              "      background-color: #3B4455;\n",
              "      fill: #D2E3FC;\n",
              "    }\n",
              "\n",
              "    [theme=dark] .colab-df-convert:hover {\n",
              "      background-color: #434B5C;\n",
              "      box-shadow: 0px 1px 3px 1px rgba(0, 0, 0, 0.15);\n",
              "      filter: drop-shadow(0px 1px 2px rgba(0, 0, 0, 0.3));\n",
              "      fill: #FFFFFF;\n",
              "    }\n",
              "  </style>\n",
              "\n",
              "    <script>\n",
              "      const buttonEl =\n",
              "        document.querySelector('#df-d3a8e88c-23a1-43b8-8c75-56206be3a677 button.colab-df-convert');\n",
              "      buttonEl.style.display =\n",
              "        google.colab.kernel.accessAllowed ? 'block' : 'none';\n",
              "\n",
              "      async function convertToInteractive(key) {\n",
              "        const element = document.querySelector('#df-d3a8e88c-23a1-43b8-8c75-56206be3a677');\n",
              "        const dataTable =\n",
              "          await google.colab.kernel.invokeFunction('convertToInteractive',\n",
              "                                                    [key], {});\n",
              "        if (!dataTable) return;\n",
              "\n",
              "        const docLinkHtml = 'Like what you see? Visit the ' +\n",
              "          '<a target=\"_blank\" href=https://colab.research.google.com/notebooks/data_table.ipynb>data table notebook</a>'\n",
              "          + ' to learn more about interactive tables.';\n",
              "        element.innerHTML = '';\n",
              "        dataTable['output_type'] = 'display_data';\n",
              "        await google.colab.output.renderOutput(dataTable, element);\n",
              "        const docLink = document.createElement('div');\n",
              "        docLink.innerHTML = docLinkHtml;\n",
              "        element.appendChild(docLink);\n",
              "      }\n",
              "    </script>\n",
              "  </div>\n",
              "\n",
              "\n",
              "<div id=\"df-335bdeb5-a028-4048-98ff-6c60d04b4fb3\">\n",
              "  <button class=\"colab-df-quickchart\" onclick=\"quickchart('df-335bdeb5-a028-4048-98ff-6c60d04b4fb3')\"\n",
              "            title=\"Suggest charts\"\n",
              "            style=\"display:none;\">\n",
              "\n",
              "<svg xmlns=\"http://www.w3.org/2000/svg\" height=\"24px\"viewBox=\"0 0 24 24\"\n",
              "     width=\"24px\">\n",
              "    <g>\n",
              "        <path d=\"M19 3H5c-1.1 0-2 .9-2 2v14c0 1.1.9 2 2 2h14c1.1 0 2-.9 2-2V5c0-1.1-.9-2-2-2zM9 17H7v-7h2v7zm4 0h-2V7h2v10zm4 0h-2v-4h2v4z\"/>\n",
              "    </g>\n",
              "</svg>\n",
              "  </button>\n",
              "\n",
              "<style>\n",
              "  .colab-df-quickchart {\n",
              "      --bg-color: #E8F0FE;\n",
              "      --fill-color: #1967D2;\n",
              "      --hover-bg-color: #E2EBFA;\n",
              "      --hover-fill-color: #174EA6;\n",
              "      --disabled-fill-color: #AAA;\n",
              "      --disabled-bg-color: #DDD;\n",
              "  }\n",
              "\n",
              "  [theme=dark] .colab-df-quickchart {\n",
              "      --bg-color: #3B4455;\n",
              "      --fill-color: #D2E3FC;\n",
              "      --hover-bg-color: #434B5C;\n",
              "      --hover-fill-color: #FFFFFF;\n",
              "      --disabled-bg-color: #3B4455;\n",
              "      --disabled-fill-color: #666;\n",
              "  }\n",
              "\n",
              "  .colab-df-quickchart {\n",
              "    background-color: var(--bg-color);\n",
              "    border: none;\n",
              "    border-radius: 50%;\n",
              "    cursor: pointer;\n",
              "    display: none;\n",
              "    fill: var(--fill-color);\n",
              "    height: 32px;\n",
              "    padding: 0;\n",
              "    width: 32px;\n",
              "  }\n",
              "\n",
              "  .colab-df-quickchart:hover {\n",
              "    background-color: var(--hover-bg-color);\n",
              "    box-shadow: 0 1px 2px rgba(60, 64, 67, 0.3), 0 1px 3px 1px rgba(60, 64, 67, 0.15);\n",
              "    fill: var(--button-hover-fill-color);\n",
              "  }\n",
              "\n",
              "  .colab-df-quickchart-complete:disabled,\n",
              "  .colab-df-quickchart-complete:disabled:hover {\n",
              "    background-color: var(--disabled-bg-color);\n",
              "    fill: var(--disabled-fill-color);\n",
              "    box-shadow: none;\n",
              "  }\n",
              "\n",
              "  .colab-df-spinner {\n",
              "    border: 2px solid var(--fill-color);\n",
              "    border-color: transparent;\n",
              "    border-bottom-color: var(--fill-color);\n",
              "    animation:\n",
              "      spin 1s steps(1) infinite;\n",
              "  }\n",
              "\n",
              "  @keyframes spin {\n",
              "    0% {\n",
              "      border-color: transparent;\n",
              "      border-bottom-color: var(--fill-color);\n",
              "      border-left-color: var(--fill-color);\n",
              "    }\n",
              "    20% {\n",
              "      border-color: transparent;\n",
              "      border-left-color: var(--fill-color);\n",
              "      border-top-color: var(--fill-color);\n",
              "    }\n",
              "    30% {\n",
              "      border-color: transparent;\n",
              "      border-left-color: var(--fill-color);\n",
              "      border-top-color: var(--fill-color);\n",
              "      border-right-color: var(--fill-color);\n",
              "    }\n",
              "    40% {\n",
              "      border-color: transparent;\n",
              "      border-right-color: var(--fill-color);\n",
              "      border-top-color: var(--fill-color);\n",
              "    }\n",
              "    60% {\n",
              "      border-color: transparent;\n",
              "      border-right-color: var(--fill-color);\n",
              "    }\n",
              "    80% {\n",
              "      border-color: transparent;\n",
              "      border-right-color: var(--fill-color);\n",
              "      border-bottom-color: var(--fill-color);\n",
              "    }\n",
              "    90% {\n",
              "      border-color: transparent;\n",
              "      border-bottom-color: var(--fill-color);\n",
              "    }\n",
              "  }\n",
              "</style>\n",
              "\n",
              "  <script>\n",
              "    async function quickchart(key) {\n",
              "      const quickchartButtonEl =\n",
              "        document.querySelector('#' + key + ' button');\n",
              "      quickchartButtonEl.disabled = true;  // To prevent multiple clicks.\n",
              "      quickchartButtonEl.classList.add('colab-df-spinner');\n",
              "      try {\n",
              "        const charts = await google.colab.kernel.invokeFunction(\n",
              "            'suggestCharts', [key], {});\n",
              "      } catch (error) {\n",
              "        console.error('Error during call to suggestCharts:', error);\n",
              "      }\n",
              "      quickchartButtonEl.classList.remove('colab-df-spinner');\n",
              "      quickchartButtonEl.classList.add('colab-df-quickchart-complete');\n",
              "    }\n",
              "    (() => {\n",
              "      let quickchartButtonEl =\n",
              "        document.querySelector('#df-335bdeb5-a028-4048-98ff-6c60d04b4fb3 button');\n",
              "      quickchartButtonEl.style.display =\n",
              "        google.colab.kernel.accessAllowed ? 'block' : 'none';\n",
              "    })();\n",
              "  </script>\n",
              "</div>\n",
              "    </div>\n",
              "  </div>\n"
            ]
          },
          "metadata": {},
          "execution_count": 48
        }
      ]
    },
    {
      "cell_type": "markdown",
      "source": [
        "**Task:** Can you edit the code cell above to sort by a different column? For example, can you answer the question which Regions have the most people aged 85+?"
      ],
      "metadata": {
        "id": "Y1foUwRumnco"
      }
    },
    {
      "cell_type": "markdown",
      "source": [
        "# Show distributions\n",
        "It is often very helpful to see what are the most (and least) common numbers in a dataset, and to understand where the numbers are concentrated. For this, we have a number of different visualisation techniques. Here we look at three of them: **histogram**, **box plot** and **scatterplot**."
      ],
      "metadata": {
        "id": "_KuB5jZJFKbj"
      }
    },
    {
      "cell_type": "markdown",
      "source": [
        "## Histogram\n",
        "Histogram, using Seaborn, `histplot()`, bin width of 1."
      ],
      "metadata": {
        "id": "4zje9W_BmUCs"
      }
    },
    {
      "cell_type": "markdown",
      "source": [
        "A **histogram** is a type of chart representing the distribution of numerical data. It’s a graphical representation where each bar, also known as a bin or class, represents a range of numeric values. The height of each bar indicates the frequency of data points that fall within the range of values corresponding to that bin.\n",
        "\n",
        "Key components of a histogram:\n",
        "\n",
        "* Bins: These are the ranges of values that data is grouped into. Each bin is represented by a bar in the histogram.\n",
        "* Frequency: This is represented by the height of the bar and indicates the number of data points that fall within the corresponding bin."
      ],
      "metadata": {
        "id": "MAPvtsehqbxG"
      }
    },
    {
      "cell_type": "code",
      "source": [
        "df.keys()"
      ],
      "metadata": {
        "colab": {
          "base_uri": "https://localhost:8080/"
        },
        "id": "mJrGxiFX1AMb",
        "outputId": "42978513-888a-4509-bbf9-0667e10326bc"
      },
      "execution_count": null,
      "outputs": [
        {
          "output_type": "execute_result",
          "data": {
            "text/plain": [
              "Index(['TCITY15CD', 'Town/City', 'Region/Country', 'Population aged 0-15 ',\n",
              "       'Population aged 16-64 ', 'Population aged 65+ ',\n",
              "       'Population aged 85+ '],\n",
              "      dtype='object')"
            ]
          },
          "metadata": {},
          "execution_count": 49
        }
      ]
    },
    {
      "cell_type": "code",
      "source": [
        "df.head()"
      ],
      "metadata": {
        "colab": {
          "base_uri": "https://localhost:8080/",
          "height": 241
        },
        "id": "ogGRLnOd1Utj",
        "outputId": "104fc552-22c1-4b4d-cbd2-dfeecfc79b9d"
      },
      "execution_count": null,
      "outputs": [
        {
          "output_type": "execute_result",
          "data": {
            "text/plain": [
              "   TCITY15CD      Town/City            Region/Country  Population aged 0-15   \\\n",
              "0  J01000001     Barnsley    Yorkshire and The Humber                  18.22   \n",
              "1  J01000002     Basildon             East of England                  21.28   \n",
              "2  J01000003  Basingstoke                  South East                  20.81   \n",
              "3  J01000004         Bath                  South West                  15.20   \n",
              "4  J01000005      Bedford             East of England                  20.13   \n",
              "\n",
              "   Population aged 16-64   Population aged 65+   Population aged 85+   \n",
              "0                   64.67                 17.10                  1.96  \n",
              "1                   64.53                 14.20                  1.82  \n",
              "2                   66.88                 12.31                  1.43  \n",
              "3                   68.23                 16.57                  2.83  \n",
              "4                   65.02                 14.85                  2.35  "
            ],
            "text/html": [
              "\n",
              "  <div id=\"df-67382e6c-3245-41ed-b336-58deaf853bcc\" class=\"colab-df-container\">\n",
              "    <div>\n",
              "<style scoped>\n",
              "    .dataframe tbody tr th:only-of-type {\n",
              "        vertical-align: middle;\n",
              "    }\n",
              "\n",
              "    .dataframe tbody tr th {\n",
              "        vertical-align: top;\n",
              "    }\n",
              "\n",
              "    .dataframe thead th {\n",
              "        text-align: right;\n",
              "    }\n",
              "</style>\n",
              "<table border=\"1\" class=\"dataframe\">\n",
              "  <thead>\n",
              "    <tr style=\"text-align: right;\">\n",
              "      <th></th>\n",
              "      <th>TCITY15CD</th>\n",
              "      <th>Town/City</th>\n",
              "      <th>Region/Country</th>\n",
              "      <th>Population aged 0-15</th>\n",
              "      <th>Population aged 16-64</th>\n",
              "      <th>Population aged 65+</th>\n",
              "      <th>Population aged 85+</th>\n",
              "    </tr>\n",
              "  </thead>\n",
              "  <tbody>\n",
              "    <tr>\n",
              "      <th>0</th>\n",
              "      <td>J01000001</td>\n",
              "      <td>Barnsley</td>\n",
              "      <td>Yorkshire and The Humber</td>\n",
              "      <td>18.22</td>\n",
              "      <td>64.67</td>\n",
              "      <td>17.10</td>\n",
              "      <td>1.96</td>\n",
              "    </tr>\n",
              "    <tr>\n",
              "      <th>1</th>\n",
              "      <td>J01000002</td>\n",
              "      <td>Basildon</td>\n",
              "      <td>East of England</td>\n",
              "      <td>21.28</td>\n",
              "      <td>64.53</td>\n",
              "      <td>14.20</td>\n",
              "      <td>1.82</td>\n",
              "    </tr>\n",
              "    <tr>\n",
              "      <th>2</th>\n",
              "      <td>J01000003</td>\n",
              "      <td>Basingstoke</td>\n",
              "      <td>South East</td>\n",
              "      <td>20.81</td>\n",
              "      <td>66.88</td>\n",
              "      <td>12.31</td>\n",
              "      <td>1.43</td>\n",
              "    </tr>\n",
              "    <tr>\n",
              "      <th>3</th>\n",
              "      <td>J01000004</td>\n",
              "      <td>Bath</td>\n",
              "      <td>South West</td>\n",
              "      <td>15.20</td>\n",
              "      <td>68.23</td>\n",
              "      <td>16.57</td>\n",
              "      <td>2.83</td>\n",
              "    </tr>\n",
              "    <tr>\n",
              "      <th>4</th>\n",
              "      <td>J01000005</td>\n",
              "      <td>Bedford</td>\n",
              "      <td>East of England</td>\n",
              "      <td>20.13</td>\n",
              "      <td>65.02</td>\n",
              "      <td>14.85</td>\n",
              "      <td>2.35</td>\n",
              "    </tr>\n",
              "  </tbody>\n",
              "</table>\n",
              "</div>\n",
              "    <div class=\"colab-df-buttons\">\n",
              "\n",
              "  <div class=\"colab-df-container\">\n",
              "    <button class=\"colab-df-convert\" onclick=\"convertToInteractive('df-67382e6c-3245-41ed-b336-58deaf853bcc')\"\n",
              "            title=\"Convert this dataframe to an interactive table.\"\n",
              "            style=\"display:none;\">\n",
              "\n",
              "  <svg xmlns=\"http://www.w3.org/2000/svg\" height=\"24px\" viewBox=\"0 -960 960 960\">\n",
              "    <path d=\"M120-120v-720h720v720H120Zm60-500h600v-160H180v160Zm220 220h160v-160H400v160Zm0 220h160v-160H400v160ZM180-400h160v-160H180v160Zm440 0h160v-160H620v160ZM180-180h160v-160H180v160Zm440 0h160v-160H620v160Z\"/>\n",
              "  </svg>\n",
              "    </button>\n",
              "\n",
              "  <style>\n",
              "    .colab-df-container {\n",
              "      display:flex;\n",
              "      gap: 12px;\n",
              "    }\n",
              "\n",
              "    .colab-df-convert {\n",
              "      background-color: #E8F0FE;\n",
              "      border: none;\n",
              "      border-radius: 50%;\n",
              "      cursor: pointer;\n",
              "      display: none;\n",
              "      fill: #1967D2;\n",
              "      height: 32px;\n",
              "      padding: 0 0 0 0;\n",
              "      width: 32px;\n",
              "    }\n",
              "\n",
              "    .colab-df-convert:hover {\n",
              "      background-color: #E2EBFA;\n",
              "      box-shadow: 0px 1px 2px rgba(60, 64, 67, 0.3), 0px 1px 3px 1px rgba(60, 64, 67, 0.15);\n",
              "      fill: #174EA6;\n",
              "    }\n",
              "\n",
              "    .colab-df-buttons div {\n",
              "      margin-bottom: 4px;\n",
              "    }\n",
              "\n",
              "    [theme=dark] .colab-df-convert {\n",
              "      background-color: #3B4455;\n",
              "      fill: #D2E3FC;\n",
              "    }\n",
              "\n",
              "    [theme=dark] .colab-df-convert:hover {\n",
              "      background-color: #434B5C;\n",
              "      box-shadow: 0px 1px 3px 1px rgba(0, 0, 0, 0.15);\n",
              "      filter: drop-shadow(0px 1px 2px rgba(0, 0, 0, 0.3));\n",
              "      fill: #FFFFFF;\n",
              "    }\n",
              "  </style>\n",
              "\n",
              "    <script>\n",
              "      const buttonEl =\n",
              "        document.querySelector('#df-67382e6c-3245-41ed-b336-58deaf853bcc button.colab-df-convert');\n",
              "      buttonEl.style.display =\n",
              "        google.colab.kernel.accessAllowed ? 'block' : 'none';\n",
              "\n",
              "      async function convertToInteractive(key) {\n",
              "        const element = document.querySelector('#df-67382e6c-3245-41ed-b336-58deaf853bcc');\n",
              "        const dataTable =\n",
              "          await google.colab.kernel.invokeFunction('convertToInteractive',\n",
              "                                                    [key], {});\n",
              "        if (!dataTable) return;\n",
              "\n",
              "        const docLinkHtml = 'Like what you see? Visit the ' +\n",
              "          '<a target=\"_blank\" href=https://colab.research.google.com/notebooks/data_table.ipynb>data table notebook</a>'\n",
              "          + ' to learn more about interactive tables.';\n",
              "        element.innerHTML = '';\n",
              "        dataTable['output_type'] = 'display_data';\n",
              "        await google.colab.output.renderOutput(dataTable, element);\n",
              "        const docLink = document.createElement('div');\n",
              "        docLink.innerHTML = docLinkHtml;\n",
              "        element.appendChild(docLink);\n",
              "      }\n",
              "    </script>\n",
              "  </div>\n",
              "\n",
              "\n",
              "<div id=\"df-85e927a7-ee88-4b4c-9d59-2f00c6f1d5a5\">\n",
              "  <button class=\"colab-df-quickchart\" onclick=\"quickchart('df-85e927a7-ee88-4b4c-9d59-2f00c6f1d5a5')\"\n",
              "            title=\"Suggest charts\"\n",
              "            style=\"display:none;\">\n",
              "\n",
              "<svg xmlns=\"http://www.w3.org/2000/svg\" height=\"24px\"viewBox=\"0 0 24 24\"\n",
              "     width=\"24px\">\n",
              "    <g>\n",
              "        <path d=\"M19 3H5c-1.1 0-2 .9-2 2v14c0 1.1.9 2 2 2h14c1.1 0 2-.9 2-2V5c0-1.1-.9-2-2-2zM9 17H7v-7h2v7zm4 0h-2V7h2v10zm4 0h-2v-4h2v4z\"/>\n",
              "    </g>\n",
              "</svg>\n",
              "  </button>\n",
              "\n",
              "<style>\n",
              "  .colab-df-quickchart {\n",
              "      --bg-color: #E8F0FE;\n",
              "      --fill-color: #1967D2;\n",
              "      --hover-bg-color: #E2EBFA;\n",
              "      --hover-fill-color: #174EA6;\n",
              "      --disabled-fill-color: #AAA;\n",
              "      --disabled-bg-color: #DDD;\n",
              "  }\n",
              "\n",
              "  [theme=dark] .colab-df-quickchart {\n",
              "      --bg-color: #3B4455;\n",
              "      --fill-color: #D2E3FC;\n",
              "      --hover-bg-color: #434B5C;\n",
              "      --hover-fill-color: #FFFFFF;\n",
              "      --disabled-bg-color: #3B4455;\n",
              "      --disabled-fill-color: #666;\n",
              "  }\n",
              "\n",
              "  .colab-df-quickchart {\n",
              "    background-color: var(--bg-color);\n",
              "    border: none;\n",
              "    border-radius: 50%;\n",
              "    cursor: pointer;\n",
              "    display: none;\n",
              "    fill: var(--fill-color);\n",
              "    height: 32px;\n",
              "    padding: 0;\n",
              "    width: 32px;\n",
              "  }\n",
              "\n",
              "  .colab-df-quickchart:hover {\n",
              "    background-color: var(--hover-bg-color);\n",
              "    box-shadow: 0 1px 2px rgba(60, 64, 67, 0.3), 0 1px 3px 1px rgba(60, 64, 67, 0.15);\n",
              "    fill: var(--button-hover-fill-color);\n",
              "  }\n",
              "\n",
              "  .colab-df-quickchart-complete:disabled,\n",
              "  .colab-df-quickchart-complete:disabled:hover {\n",
              "    background-color: var(--disabled-bg-color);\n",
              "    fill: var(--disabled-fill-color);\n",
              "    box-shadow: none;\n",
              "  }\n",
              "\n",
              "  .colab-df-spinner {\n",
              "    border: 2px solid var(--fill-color);\n",
              "    border-color: transparent;\n",
              "    border-bottom-color: var(--fill-color);\n",
              "    animation:\n",
              "      spin 1s steps(1) infinite;\n",
              "  }\n",
              "\n",
              "  @keyframes spin {\n",
              "    0% {\n",
              "      border-color: transparent;\n",
              "      border-bottom-color: var(--fill-color);\n",
              "      border-left-color: var(--fill-color);\n",
              "    }\n",
              "    20% {\n",
              "      border-color: transparent;\n",
              "      border-left-color: var(--fill-color);\n",
              "      border-top-color: var(--fill-color);\n",
              "    }\n",
              "    30% {\n",
              "      border-color: transparent;\n",
              "      border-left-color: var(--fill-color);\n",
              "      border-top-color: var(--fill-color);\n",
              "      border-right-color: var(--fill-color);\n",
              "    }\n",
              "    40% {\n",
              "      border-color: transparent;\n",
              "      border-right-color: var(--fill-color);\n",
              "      border-top-color: var(--fill-color);\n",
              "    }\n",
              "    60% {\n",
              "      border-color: transparent;\n",
              "      border-right-color: var(--fill-color);\n",
              "    }\n",
              "    80% {\n",
              "      border-color: transparent;\n",
              "      border-right-color: var(--fill-color);\n",
              "      border-bottom-color: var(--fill-color);\n",
              "    }\n",
              "    90% {\n",
              "      border-color: transparent;\n",
              "      border-bottom-color: var(--fill-color);\n",
              "    }\n",
              "  }\n",
              "</style>\n",
              "\n",
              "  <script>\n",
              "    async function quickchart(key) {\n",
              "      const quickchartButtonEl =\n",
              "        document.querySelector('#' + key + ' button');\n",
              "      quickchartButtonEl.disabled = true;  // To prevent multiple clicks.\n",
              "      quickchartButtonEl.classList.add('colab-df-spinner');\n",
              "      try {\n",
              "        const charts = await google.colab.kernel.invokeFunction(\n",
              "            'suggestCharts', [key], {});\n",
              "      } catch (error) {\n",
              "        console.error('Error during call to suggestCharts:', error);\n",
              "      }\n",
              "      quickchartButtonEl.classList.remove('colab-df-spinner');\n",
              "      quickchartButtonEl.classList.add('colab-df-quickchart-complete');\n",
              "    }\n",
              "    (() => {\n",
              "      let quickchartButtonEl =\n",
              "        document.querySelector('#df-85e927a7-ee88-4b4c-9d59-2f00c6f1d5a5 button');\n",
              "      quickchartButtonEl.style.display =\n",
              "        google.colab.kernel.accessAllowed ? 'block' : 'none';\n",
              "    })();\n",
              "  </script>\n",
              "</div>\n",
              "    </div>\n",
              "  </div>\n"
            ]
          },
          "metadata": {},
          "execution_count": 50
        }
      ]
    },
    {
      "cell_type": "code",
      "source": [
        "sns.histplot(data=df, x='Population aged 0-15 ', binwidth=1)"
      ],
      "metadata": {
        "id": "haRxEK67CYks",
        "colab": {
          "base_uri": "https://localhost:8080/",
          "height": 466
        },
        "outputId": "a35b9467-b32f-4686-fb74-73724e6f0363"
      },
      "execution_count": null,
      "outputs": [
        {
          "output_type": "execute_result",
          "data": {
            "text/plain": [
              "<Axes: xlabel='Population aged 0-15 ', ylabel='Count'>"
            ]
          },
          "metadata": {},
          "execution_count": 51
        },
        {
          "output_type": "display_data",
          "data": {
            "text/plain": [
              "<Figure size 640x480 with 1 Axes>"
            ],
            "image/png": "[encoded data removed]"
          },
          "metadata": {}
        }
      ]
    },
    {
      "cell_type": "code",
      "source": [
        "sns.histplot(data=df, x='Population aged 16-64 ', binwidth=1)"
      ],
      "metadata": {
        "colab": {
          "base_uri": "https://localhost:8080/",
          "height": 466
        },
        "id": "U77ghY930eA_",
        "outputId": "b7c2c5a4-28d1-400d-b8d4-45e742a6c143"
      },
      "execution_count": null,
      "outputs": [
        {
          "output_type": "execute_result",
          "data": {
            "text/plain": [
              "<Axes: xlabel='Population aged 16-64 ', ylabel='Count'>"
            ]
          },
          "metadata": {},
          "execution_count": 52
        },
        {
          "output_type": "display_data",
          "data": {
            "text/plain": [
              "<Figure size 640x480 with 1 Axes>"
            ],
            "image/png": "[encoded data removed]"
          },
          "metadata": {}
        }
      ]
    },
    {
      "cell_type": "markdown",
      "source": [
        "## Box plot\n",
        "Box plot with Seaborn `boxplot()`"
      ],
      "metadata": {
        "id": "Nlz9Hcx4mkwK"
      }
    },
    {
      "cell_type": "markdown",
      "source": [
        "A **box plot**, also known as a box and whisker plot, is a type of chart often used in exploratory data analysis (EDA). It visually shows the distribution of numerical data by displaying the data quartiles (or percentiles) and averages.\n",
        "\n",
        "A box plot has these key components:\n",
        "* Minimum Score: The lowest score, excluding outliers (shown at the end of the left whisker).\n",
        "* Lower Quartile: Twenty-five percent of scores fall below the lower quartile value (also known as the first quartile).\n",
        "* Median: The median marks the mid-point of the data and is shown by the line that divides the box into two parts. Half the scores are greater than or equal to this value, and half are less.\n",
        "* Upper Quartile: Seventy-five percent of the scores fall below the upper quartile value (also known as the third quartile). Thus, 25% of data are above this value.\n",
        "* Maximum Score: The highest score, excluding outliers (shown at the end of the right whisker).\n",
        "* Whiskers: The upper and lower whiskers represent scores outside the middle 50% (i.e., the lower 25% of scores and the upper 25% of scores).\n"
      ],
      "metadata": {
        "id": "ASH4uiRDpG6H"
      }
    },
    {
      "cell_type": "code",
      "source": [
        "# Plot boxplot\n",
        "sns.boxplot(data=df, x='Population aged 0-15 ')"
      ],
      "metadata": {
        "id": "3HOkJ3D2HYW0",
        "colab": {
          "base_uri": "https://localhost:8080/",
          "height": 466
        },
        "outputId": "214becc3-25c8-4bb6-c8e7-ecd952355045"
      },
      "execution_count": null,
      "outputs": [
        {
          "output_type": "execute_result",
          "data": {
            "text/plain": [
              "<Axes: xlabel='Population aged 0-15 '>"
            ]
          },
          "metadata": {},
          "execution_count": 53
        },
        {
          "output_type": "display_data",
          "data": {
            "text/plain": [
              "<Figure size 640x480 with 1 Axes>"
            ],
            "image/png": "[encoded data removed]"
          },
          "metadata": {}
        }
      ]
    },
    {
      "cell_type": "markdown",
      "source": [
        "**Task:** Looking at this graph, how many outliers are there?"
      ],
      "metadata": {
        "id": "VxtHpnqJnfCh"
      }
    },
    {
      "cell_type": "code",
      "source": [
        "# Melt the population columns into an identifier ('Age Range') and value ('Pop Pct')\n",
        "df_melt = pd.melt(df, id_vars=['TCITY15CD', 'Town/City', 'Region/Country'], value_vars=['Population aged 0-15 ',\n",
        "       'Population aged 16-64 ', 'Population aged 65+ ', 'Population aged 85+ '], var_name='Age Range', value_name='Pop Pct')"
      ],
      "metadata": {
        "id": "AvszyR_y5TWl"
      },
      "execution_count": null,
      "outputs": []
    },
    {
      "cell_type": "code",
      "source": [
        "df_melt"
      ],
      "metadata": {
        "colab": {
          "base_uri": "https://localhost:8080/",
          "height": 424
        },
        "id": "RfZBAC7r4LeG",
        "outputId": "34df4865-a664-461a-d9cf-db142d2e8934"
      },
      "execution_count": null,
      "outputs": [
        {
          "output_type": "execute_result",
          "data": {
            "text/plain": [
              "     TCITY15CD        Town/City            Region/Country  \\\n",
              "0    J01000001       Barnsley    Yorkshire and The Humber   \n",
              "1    J01000002       Basildon             East of England   \n",
              "2    J01000003    Basingstoke                  South East   \n",
              "3    J01000004           Bath                  South West   \n",
              "4    J01000005        Bedford             East of England   \n",
              "..         ...              ...                       ...   \n",
              "443  J01000108         Woking                  South East   \n",
              "444  J01000109  Wolverhampton               West Midlands   \n",
              "445  J01000110      Worcester               West Midlands   \n",
              "446  J01000111       Worthing                  South East   \n",
              "447  J01000112           York    Yorkshire and The Humber   \n",
              "\n",
              "                 Age Range  Pop Pct  \n",
              "0    Population aged 0-15     18.22  \n",
              "1    Population aged 0-15     21.28  \n",
              "2    Population aged 0-15     20.81  \n",
              "3    Population aged 0-15     15.20  \n",
              "4    Population aged 0-15     20.13  \n",
              "..                     ...      ...  \n",
              "443   Population aged 85+      2.31  \n",
              "444   Population aged 85+      2.28  \n",
              "445   Population aged 85+      2.06  \n",
              "446   Population aged 85+      4.04  \n",
              "447   Population aged 85+      2.29  \n",
              "\n",
              "[448 rows x 5 columns]"
            ],
            "text/html": [
              "\n",
              "  <div id=\"df-944a0063-a5fe-41e6-8cbf-ea88275d316a\" class=\"colab-df-container\">\n",
              "    <div>\n",
              "<style scoped>\n",
              "    .dataframe tbody tr th:only-of-type {\n",
              "        vertical-align: middle;\n",
              "    }\n",
              "\n",
              "    .dataframe tbody tr th {\n",
              "        vertical-align: top;\n",
              "    }\n",
              "\n",
              "    .dataframe thead th {\n",
              "        text-align: right;\n",
              "    }\n",
              "</style>\n",
              "<table border=\"1\" class=\"dataframe\">\n",
              "  <thead>\n",
              "    <tr style=\"text-align: right;\">\n",
              "      <th></th>\n",
              "      <th>TCITY15CD</th>\n",
              "      <th>Town/City</th>\n",
              "      <th>Region/Country</th>\n",
              "      <th>Age Range</th>\n",
              "      <th>Pop Pct</th>\n",
              "    </tr>\n",
              "  </thead>\n",
              "  <tbody>\n",
              "    <tr>\n",
              "      <th>0</th>\n",
              "      <td>J01000001</td>\n",
              "      <td>Barnsley</td>\n",
              "      <td>Yorkshire and The Humber</td>\n",
              "      <td>Population aged 0-15</td>\n",
              "      <td>18.22</td>\n",
              "    </tr>\n",
              "    <tr>\n",
              "      <th>1</th>\n",
              "      <td>J01000002</td>\n",
              "      <td>Basildon</td>\n",
              "      <td>East of England</td>\n",
              "      <td>Population aged 0-15</td>\n",
              "      <td>21.28</td>\n",
              "    </tr>\n",
              "    <tr>\n",
              "      <th>2</th>\n",
              "      <td>J01000003</td>\n",
              "      <td>Basingstoke</td>\n",
              "      <td>South East</td>\n",
              "      <td>Population aged 0-15</td>\n",
              "      <td>20.81</td>\n",
              "    </tr>\n",
              "    <tr>\n",
              "      <th>3</th>\n",
              "      <td>J01000004</td>\n",
              "      <td>Bath</td>\n",
              "      <td>South West</td>\n",
              "      <td>Population aged 0-15</td>\n",
              "      <td>15.20</td>\n",
              "    </tr>\n",
              "    <tr>\n",
              "      <th>4</th>\n",
              "      <td>J01000005</td>\n",
              "      <td>Bedford</td>\n",
              "      <td>East of England</td>\n",
              "      <td>Population aged 0-15</td>\n",
              "      <td>20.13</td>\n",
              "    </tr>\n",
              "    <tr>\n",
              "      <th>...</th>\n",
              "      <td>...</td>\n",
              "      <td>...</td>\n",
              "      <td>...</td>\n",
              "      <td>...</td>\n",
              "      <td>...</td>\n",
              "    </tr>\n",
              "    <tr>\n",
              "      <th>443</th>\n",
              "      <td>J01000108</td>\n",
              "      <td>Woking</td>\n",
              "      <td>South East</td>\n",
              "      <td>Population aged 85+</td>\n",
              "      <td>2.31</td>\n",
              "    </tr>\n",
              "    <tr>\n",
              "      <th>444</th>\n",
              "      <td>J01000109</td>\n",
              "      <td>Wolverhampton</td>\n",
              "      <td>West Midlands</td>\n",
              "      <td>Population aged 85+</td>\n",
              "      <td>2.28</td>\n",
              "    </tr>\n",
              "    <tr>\n",
              "      <th>445</th>\n",
              "      <td>J01000110</td>\n",
              "      <td>Worcester</td>\n",
              "      <td>West Midlands</td>\n",
              "      <td>Population aged 85+</td>\n",
              "      <td>2.06</td>\n",
              "    </tr>\n",
              "    <tr>\n",
              "      <th>446</th>\n",
              "      <td>J01000111</td>\n",
              "      <td>Worthing</td>\n",
              "      <td>South East</td>\n",
              "      <td>Population aged 85+</td>\n",
              "      <td>4.04</td>\n",
              "    </tr>\n",
              "    <tr>\n",
              "      <th>447</th>\n",
              "      <td>J01000112</td>\n",
              "      <td>York</td>\n",
              "      <td>Yorkshire and The Humber</td>\n",
              "      <td>Population aged 85+</td>\n",
              "      <td>2.29</td>\n",
              "    </tr>\n",
              "  </tbody>\n",
              "</table>\n",
              "<p>448 rows × 5 columns</p>\n",
              "</div>\n",
              "    <div class=\"colab-df-buttons\">\n",
              "\n",
              "  <div class=\"colab-df-container\">\n",
              "    <button class=\"colab-df-convert\" onclick=\"convertToInteractive('df-944a0063-a5fe-41e6-8cbf-ea88275d316a')\"\n",
              "            title=\"Convert this dataframe to an interactive table.\"\n",
              "            style=\"display:none;\">\n",
              "\n",
              "  <svg xmlns=\"http://www.w3.org/2000/svg\" height=\"24px\" viewBox=\"0 -960 960 960\">\n",
              "    <path d=\"M120-120v-720h720v720H120Zm60-500h600v-160H180v160Zm220 220h160v-160H400v160Zm0 220h160v-160H400v160ZM180-400h160v-160H180v160Zm440 0h160v-160H620v160ZM180-180h160v-160H180v160Zm440 0h160v-160H620v160Z\"/>\n",
              "  </svg>\n",
              "    </button>\n",
              "\n",
              "  <style>\n",
              "    .colab-df-container {\n",
              "      display:flex;\n",
              "      gap: 12px;\n",
              "    }\n",
              "\n",
              "    .colab-df-convert {\n",
              "      background-color: #E8F0FE;\n",
              "      border: none;\n",
              "      border-radius: 50%;\n",
              "      cursor: pointer;\n",
              "      display: none;\n",
              "      fill: #1967D2;\n",
              "      height: 32px;\n",
              "      padding: 0 0 0 0;\n",
              "      width: 32px;\n",
              "    }\n",
              "\n",
              "    .colab-df-convert:hover {\n",
              "      background-color: #E2EBFA;\n",
              "      box-shadow: 0px 1px 2px rgba(60, 64, 67, 0.3), 0px 1px 3px 1px rgba(60, 64, 67, 0.15);\n",
              "      fill: #174EA6;\n",
              "    }\n",
              "\n",
              "    .colab-df-buttons div {\n",
              "      margin-bottom: 4px;\n",
              "    }\n",
              "\n",
              "    [theme=dark] .colab-df-convert {\n",
              "      background-color: #3B4455;\n",
              "      fill: #D2E3FC;\n",
              "    }\n",
              "\n",
              "    [theme=dark] .colab-df-convert:hover {\n",
              "      background-color: #434B5C;\n",
              "      box-shadow: 0px 1px 3px 1px rgba(0, 0, 0, 0.15);\n",
              "      filter: drop-shadow(0px 1px 2px rgba(0, 0, 0, 0.3));\n",
              "      fill: #FFFFFF;\n",
              "    }\n",
              "  </style>\n",
              "\n",
              "    <script>\n",
              "      const buttonEl =\n",
              "        document.querySelector('#df-944a0063-a5fe-41e6-8cbf-ea88275d316a button.colab-df-convert');\n",
              "      buttonEl.style.display =\n",
              "        google.colab.kernel.accessAllowed ? 'block' : 'none';\n",
              "\n",
              "      async function convertToInteractive(key) {\n",
              "        const element = document.querySelector('#df-944a0063-a5fe-41e6-8cbf-ea88275d316a');\n",
              "        const dataTable =\n",
              "          await google.colab.kernel.invokeFunction('convertToInteractive',\n",
              "                                                    [key], {});\n",
              "        if (!dataTable) return;\n",
              "\n",
              "        const docLinkHtml = 'Like what you see? Visit the ' +\n",
              "          '<a target=\"_blank\" href=https://colab.research.google.com/notebooks/data_table.ipynb>data table notebook</a>'\n",
              "          + ' to learn more about interactive tables.';\n",
              "        element.innerHTML = '';\n",
              "        dataTable['output_type'] = 'display_data';\n",
              "        await google.colab.output.renderOutput(dataTable, element);\n",
              "        const docLink = document.createElement('div');\n",
              "        docLink.innerHTML = docLinkHtml;\n",
              "        element.appendChild(docLink);\n",
              "      }\n",
              "    </script>\n",
              "  </div>\n",
              "\n",
              "\n",
              "<div id=\"df-60abddbf-cc75-4b80-9fbe-07305d9630b6\">\n",
              "  <button class=\"colab-df-quickchart\" onclick=\"quickchart('df-60abddbf-cc75-4b80-9fbe-07305d9630b6')\"\n",
              "            title=\"Suggest charts\"\n",
              "            style=\"display:none;\">\n",
              "\n",
              "<svg xmlns=\"http://www.w3.org/2000/svg\" height=\"24px\"viewBox=\"0 0 24 24\"\n",
              "     width=\"24px\">\n",
              "    <g>\n",
              "        <path d=\"M19 3H5c-1.1 0-2 .9-2 2v14c0 1.1.9 2 2 2h14c1.1 0 2-.9 2-2V5c0-1.1-.9-2-2-2zM9 17H7v-7h2v7zm4 0h-2V7h2v10zm4 0h-2v-4h2v4z\"/>\n",
              "    </g>\n",
              "</svg>\n",
              "  </button>\n",
              "\n",
              "<style>\n",
              "  .colab-df-quickchart {\n",
              "      --bg-color: #E8F0FE;\n",
              "      --fill-color: #1967D2;\n",
              "      --hover-bg-color: #E2EBFA;\n",
              "      --hover-fill-color: #174EA6;\n",
              "      --disabled-fill-color: #AAA;\n",
              "      --disabled-bg-color: #DDD;\n",
              "  }\n",
              "\n",
              "  [theme=dark] .colab-df-quickchart {\n",
              "      --bg-color: #3B4455;\n",
              "      --fill-color: #D2E3FC;\n",
              "      --hover-bg-color: #434B5C;\n",
              "      --hover-fill-color: #FFFFFF;\n",
              "      --disabled-bg-color: #3B4455;\n",
              "      --disabled-fill-color: #666;\n",
              "  }\n",
              "\n",
              "  .colab-df-quickchart {\n",
              "    background-color: var(--bg-color);\n",
              "    border: none;\n",
              "    border-radius: 50%;\n",
              "    cursor: pointer;\n",
              "    display: none;\n",
              "    fill: var(--fill-color);\n",
              "    height: 32px;\n",
              "    padding: 0;\n",
              "    width: 32px;\n",
              "  }\n",
              "\n",
              "  .colab-df-quickchart:hover {\n",
              "    background-color: var(--hover-bg-color);\n",
              "    box-shadow: 0 1px 2px rgba(60, 64, 67, 0.3), 0 1px 3px 1px rgba(60, 64, 67, 0.15);\n",
              "    fill: var(--button-hover-fill-color);\n",
              "  }\n",
              "\n",
              "  .colab-df-quickchart-complete:disabled,\n",
              "  .colab-df-quickchart-complete:disabled:hover {\n",
              "    background-color: var(--disabled-bg-color);\n",
              "    fill: var(--disabled-fill-color);\n",
              "    box-shadow: none;\n",
              "  }\n",
              "\n",
              "  .colab-df-spinner {\n",
              "    border: 2px solid var(--fill-color);\n",
              "    border-color: transparent;\n",
              "    border-bottom-color: var(--fill-color);\n",
              "    animation:\n",
              "      spin 1s steps(1) infinite;\n",
              "  }\n",
              "\n",
              "  @keyframes spin {\n",
              "    0% {\n",
              "      border-color: transparent;\n",
              "      border-bottom-color: var(--fill-color);\n",
              "      border-left-color: var(--fill-color);\n",
              "    }\n",
              "    20% {\n",
              "      border-color: transparent;\n",
              "      border-left-color: var(--fill-color);\n",
              "      border-top-color: var(--fill-color);\n",
              "    }\n",
              "    30% {\n",
              "      border-color: transparent;\n",
              "      border-left-color: var(--fill-color);\n",
              "      border-top-color: var(--fill-color);\n",
              "      border-right-color: var(--fill-color);\n",
              "    }\n",
              "    40% {\n",
              "      border-color: transparent;\n",
              "      border-right-color: var(--fill-color);\n",
              "      border-top-color: var(--fill-color);\n",
              "    }\n",
              "    60% {\n",
              "      border-color: transparent;\n",
              "      border-right-color: var(--fill-color);\n",
              "    }\n",
              "    80% {\n",
              "      border-color: transparent;\n",
              "      border-right-color: var(--fill-color);\n",
              "      border-bottom-color: var(--fill-color);\n",
              "    }\n",
              "    90% {\n",
              "      border-color: transparent;\n",
              "      border-bottom-color: var(--fill-color);\n",
              "    }\n",
              "  }\n",
              "</style>\n",
              "\n",
              "  <script>\n",
              "    async function quickchart(key) {\n",
              "      const quickchartButtonEl =\n",
              "        document.querySelector('#' + key + ' button');\n",
              "      quickchartButtonEl.disabled = true;  // To prevent multiple clicks.\n",
              "      quickchartButtonEl.classList.add('colab-df-spinner');\n",
              "      try {\n",
              "        const charts = await google.colab.kernel.invokeFunction(\n",
              "            'suggestCharts', [key], {});\n",
              "      } catch (error) {\n",
              "        console.error('Error during call to suggestCharts:', error);\n",
              "      }\n",
              "      quickchartButtonEl.classList.remove('colab-df-spinner');\n",
              "      quickchartButtonEl.classList.add('colab-df-quickchart-complete');\n",
              "    }\n",
              "    (() => {\n",
              "      let quickchartButtonEl =\n",
              "        document.querySelector('#df-60abddbf-cc75-4b80-9fbe-07305d9630b6 button');\n",
              "      quickchartButtonEl.style.display =\n",
              "        google.colab.kernel.accessAllowed ? 'block' : 'none';\n",
              "    })();\n",
              "  </script>\n",
              "</div>\n",
              "    </div>\n",
              "  </div>\n"
            ]
          },
          "metadata": {},
          "execution_count": 55
        }
      ]
    },
    {
      "cell_type": "code",
      "source": [
        "# How are the age ranges distributed across the whole country?\n",
        "sns.catplot(data=df_melt, kind='box', x='Pop Pct', y='Age Range', aspect=1.5)"
      ],
      "metadata": {
        "id": "8E8GPtLbvb-e",
        "colab": {
          "base_uri": "https://localhost:8080/",
          "height": 523
        },
        "outputId": "802e0519-c325-4ad4-99d1-9b6c4f5f7025"
      },
      "execution_count": null,
      "outputs": [
        {
          "output_type": "execute_result",
          "data": {
            "text/plain": [
              "<seaborn.axisgrid.FacetGrid at 0x79cabb2d2d10>"
            ]
          },
          "metadata": {},
          "execution_count": 56
        },
        {
          "output_type": "display_data",
          "data": {
            "text/plain": [
              "<Figure size 750x500 with 1 Axes>"
            ],
            "image/png": "[encoded data removed]"
          },
          "metadata": {}
        }
      ]
    },
    {
      "cell_type": "markdown",
      "source": [
        "## Scatterplots"
      ],
      "metadata": {
        "id": "CBr1uhLGm88t"
      }
    },
    {
      "cell_type": "markdown",
      "source": [
        "### Scatterplot all columns\n",
        "Here's a scatterplot for all the data columns. We pass the whole dataframe to Seaborn, which inteprets the wide-form data for plotting without any further instructions needed. ([Seaborn guidance on data structures](https://seaborn.pydata.org/tutorial/data_structure.html).)"
      ],
      "metadata": {
        "id": "2qXAOdbEq6Mj"
      }
    },
    {
      "cell_type": "code",
      "source": [
        "# Scatterplot for all data columns.\n",
        "sns.relplot(data=df)"
      ],
      "metadata": {
        "id": "1NKulFDjp0iE",
        "colab": {
          "base_uri": "https://localhost:8080/",
          "height": 504
        },
        "outputId": "459d9713-c399-4285-b633-c6d2fcaaab78"
      },
      "execution_count": null,
      "outputs": [
        {
          "output_type": "execute_result",
          "data": {
            "text/plain": [
              "<seaborn.axisgrid.FacetGrid at 0x79cabb04ada0>"
            ]
          },
          "metadata": {},
          "execution_count": 57
        },
        {
          "output_type": "display_data",
          "data": {
            "text/plain": [
              "<Figure size 711.375x500 with 1 Axes>"
            ],
            "image/png": "[encoded data removed]"
          },
          "metadata": {}
        }
      ]
    },
    {
      "cell_type": "markdown",
      "source": [
        "### Scatterplot selected columns\n",
        "Here we select the region and age range to show on graph."
      ],
      "metadata": {
        "id": "kpP0jJDcnEE0"
      }
    },
    {
      "cell_type": "code",
      "source": [
        "# Scatterplot by selected region\n",
        "sns.relplot(data=df, x='Population aged 85+ ', y='Region/Country')"
      ],
      "metadata": {
        "id": "kZBmcmJZAd6G",
        "colab": {
          "base_uri": "https://localhost:8080/",
          "height": 524
        },
        "outputId": "d4450d64-a9ab-4b73-8f88-6c90f5f11990"
      },
      "execution_count": null,
      "outputs": [
        {
          "output_type": "execute_result",
          "data": {
            "text/plain": [
              "<seaborn.axisgrid.FacetGrid at 0x79cabd3a4100>"
            ]
          },
          "metadata": {},
          "execution_count": 58
        },
        {
          "output_type": "display_data",
          "data": {
            "text/plain": [
              "<Figure size 500x500 with 1 Axes>"
            ],
            "image/png": "[encoded data removed]"
          },
          "metadata": {}
        }
      ]
    },
    {
      "cell_type": "markdown",
      "source": [
        "### Focus on specific region\n",
        "Which town/city has the highest proportion of old people (85+)? Here we \"zoom in\" on the South East region:"
      ],
      "metadata": {
        "id": "ym4490Oql5OL"
      }
    },
    {
      "cell_type": "code",
      "source": [
        "df.keys()"
      ],
      "metadata": {
        "colab": {
          "base_uri": "https://localhost:8080/"
        },
        "id": "c45nScDp5y5w",
        "outputId": "304ec4ec-03c5-49f1-f16b-dd1e504eebd9"
      },
      "execution_count": null,
      "outputs": [
        {
          "output_type": "execute_result",
          "data": {
            "text/plain": [
              "Index(['TCITY15CD', 'Town/City', 'Region/Country', 'Population aged 0-15 ',\n",
              "       'Population aged 16-64 ', 'Population aged 65+ ',\n",
              "       'Population aged 85+ '],\n",
              "      dtype='object')"
            ]
          },
          "metadata": {},
          "execution_count": 59
        }
      ]
    },
    {
      "cell_type": "code",
      "source": [
        "df['Region/Country'].unique()"
      ],
      "metadata": {
        "colab": {
          "base_uri": "https://localhost:8080/"
        },
        "id": "zhJvo3w553h-",
        "outputId": "2ee48e92-2ccc-4ab8-bec6-4e8732f5c4e4"
      },
      "execution_count": null,
      "outputs": [
        {
          "output_type": "execute_result",
          "data": {
            "text/plain": [
              "array(['Yorkshire and The Humber', 'East of England', 'South East',\n",
              "       'South West', 'North West', 'West Midlands', 'Wales',\n",
              "       'East Midlands', 'North East', 'London'], dtype=object)"
            ]
          },
          "metadata": {},
          "execution_count": 60
        }
      ]
    },
    {
      "cell_type": "code",
      "source": [
        "# Scatterplot with df filtered for \"South East\" only\n",
        "sns.relplot(data=df[df['Region/Country']=='East of England'], x='Population aged 85+ ', y='Town/City')"
      ],
      "metadata": {
        "colab": {
          "base_uri": "https://localhost:8080/",
          "height": 524
        },
        "id": "n-n1cU0-l4vj",
        "outputId": "3b4146a6-061b-4704-881b-edf591589229"
      },
      "execution_count": null,
      "outputs": [
        {
          "output_type": "execute_result",
          "data": {
            "text/plain": [
              "<seaborn.axisgrid.FacetGrid at 0x79cabb0e7b20>"
            ]
          },
          "metadata": {},
          "execution_count": 62
        },
        {
          "output_type": "display_data",
          "data": {
            "text/plain": [
              "<Figure size 500x500 with 1 Axes>"
            ],
            "image/png": "[encoded data removed]"
          },
          "metadata": {}
        }
      ]
    },
    {
      "cell_type": "markdown",
      "source": [
        "Task: Change the region for the scatterplot above to show different distributions."
      ],
      "metadata": {
        "id": "Mj0CF2fD5krs"
      }
    },
    {
      "cell_type": "markdown",
      "source": [
        "## Compare categories"
      ],
      "metadata": {
        "id": "XNOrAPDS5Ura"
      }
    },
    {
      "cell_type": "markdown",
      "source": [
        "To have more control over how the categories are plotted, we \"melt\" the dataset into \"long-form\" (or **tidy format**).\n",
        "\n",
        "Tidy data is a standard way of mapping the meaning of a dataset to its structure. In tidy data, every column is a variable, every row is an observation, and every cell is a single value ([full definition here](https://tidyr.tidyverse.org/articles/tidy-data.html))."
      ],
      "metadata": {
        "id": "OdiTaBqbrhqF"
      }
    },
    {
      "cell_type": "markdown",
      "source": [
        "This allows us to select how we plot the data in Seaborn (i.e., by Town/City or by Region/Country).\n",
        "\n",
        "Here we use a **strip plot**, with different colours for each Age Range. Note how this allows us to compare the different Age Range categories for each region."
      ],
      "metadata": {
        "id": "VabRsjAesgvg"
      }
    },
    {
      "cell_type": "code",
      "source": [
        "sns.catplot(data=df_melt, kind='strip', x='Pop Pct', y='Region/Country', hue='Age Range', aspect=1.5)"
      ],
      "metadata": {
        "id": "MSS3L4K75TRK",
        "colab": {
          "base_uri": "https://localhost:8080/",
          "height": 513
        },
        "outputId": "2edc9a02-6275-4787-d539-ab79bed6bcfe"
      },
      "execution_count": null,
      "outputs": [
        {
          "output_type": "execute_result",
          "data": {
            "text/plain": [
              "<seaborn.axisgrid.FacetGrid at 0x79cabd2fc700>"
            ]
          },
          "metadata": {},
          "execution_count": 63
        },
        {
          "output_type": "display_data",
          "data": {
            "text/plain": [
              "<Figure size 961.375x500 with 1 Axes>"
            ],
            "image/png": "[encoded data removed]"
          },
          "metadata": {}
        }
      ]
    },
    {
      "cell_type": "code",
      "source": [],
      "metadata": {
        "id": "zax8Faw2k_Wu"
      },
      "execution_count": null,
      "outputs": []
    }
  ]
}